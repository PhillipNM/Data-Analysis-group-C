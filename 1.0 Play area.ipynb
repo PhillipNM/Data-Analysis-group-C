{
 "cells": [
  {
   "cell_type": "code",
   "execution_count": 23,
   "id": "69a2339d",
   "metadata": {},
   "outputs": [
    {
     "name": "stdout",
     "output_type": "stream",
     "text": [
      "  Unnamed: 0       country    capital    area  population\n",
      "0         BR        Brazil   Brasilia   8.516      200.40\n",
      "1         RU        Russia     Moscow  17.100      143.50\n",
      "2         IN         India  New Delhi   3.286     1252.00\n",
      "3         CH         China    Beijing   9.597     1357.00\n",
      "4         SA  South Africa   Pretoria   1.221       52.98\n"
     ]
    }
   ],
   "source": [
    "# Import the course packages\n",
    "import numpy as np\n",
    "import pandas as pd\n",
    "import matplotlib.pyplot as plt\n",
    "\n",
    "# Import three datasets\n",
    "\n",
    "gapminder = pd.read_csv(\"gapminder.csv\")\n",
    "brics = pd.read_csv(\"brics.csv\")\n",
    "cars = pd.read_csv (\"cars.csv\")\n",
    "rideshare = pd.read_csv(\"ride_sharing_new.csv\")\n",
    "\n",
    "# Print the first DataFrame\n",
    "print(brics)\n",
    "\n"
   ]
  },
  {
   "cell_type": "code",
   "execution_count": 23,
   "id": "c1eaa8fa",
   "metadata": {},
   "outputs": [
    {
     "name": "stdout",
     "output_type": "stream",
     "text": [
      "the population of Brazil is 200.4 million!\n",
      "the population of Russia is 143.5 million!\n",
      "the population of India is 1252.0 million!\n",
      "the population of China is 1357.0 million!\n",
      "the population of South Africa is 52.98 million!\n"
     ]
    }
   ],
   "source": [
    "# 1. Create a loop that prints each country and population in brics\n",
    "for lab, row in brics.iterrows():\n",
    "    print(\n",
    "        \"the population of \"\n",
    "        + str(row[\"country\"])\n",
    "        + \" is \"\n",
    "        +str(row[\"population\"])\n",
    "        +\" million!\"\n",
    "    )"
   ]
  },
  {
   "cell_type": "code",
   "execution_count": 53,
   "id": "3586f5e6",
   "metadata": {},
   "outputs": [
    {
     "name": "stdout",
     "output_type": "stream",
     "text": [
      "[6 5 2]\n"
     ]
    }
   ],
   "source": [
    "import numpy as np\n",
    "store = np.array([\"X\", \"Z\", \"Z\", \"Z\"])\n",
    "cost  = np.array([2, 6, 5, 2])\n",
    "select_cost = cost[store == \"Z\"]\n",
    "print(select_cost)\n"
   ]
  },
  {
   "cell_type": "code",
   "execution_count": 6,
   "id": "38e96b7d",
   "metadata": {},
   "outputs": [
    {
     "data": {
      "text/plain": [
       "tuple"
      ]
     },
     "execution_count": 6,
     "metadata": {},
     "output_type": "execute_result"
    }
   ],
   "source": [
    "a=1,2,3,4,5\n",
    "type(a)"
   ]
  },
  {
   "cell_type": "code",
   "execution_count": 11,
   "id": "31b96c19",
   "metadata": {},
   "outputs": [
    {
     "data": {
      "text/plain": [
       "4"
      ]
     },
     "execution_count": 11,
     "metadata": {},
     "output_type": "execute_result"
    }
   ],
   "source": [
    "a=(1,2,3,4,5)\n",
    "type(a)\n",
    "a[0]\n",
    "a[3]"
   ]
  },
  {
   "cell_type": "code",
   "execution_count": 14,
   "id": "8a1e0c82",
   "metadata": {},
   "outputs": [
    {
     "data": {
      "text/plain": [
       "(2, 3, 4)"
      ]
     },
     "execution_count": 14,
     "metadata": {},
     "output_type": "execute_result"
    }
   ],
   "source": [
    "a[1:4]"
   ]
  },
  {
   "cell_type": "code",
   "execution_count": 15,
   "id": "c62483f5",
   "metadata": {},
   "outputs": [
    {
     "data": {
      "text/plain": [
       "(1, 3, 5, 7, 9)"
      ]
     },
     "execution_count": 15,
     "metadata": {},
     "output_type": "execute_result"
    }
   ],
   "source": [
    "a=(1,2,3,4,5,6,7,8,9)\n",
    "a[:9:2]"
   ]
  },
  {
   "cell_type": "code",
   "execution_count": 21,
   "id": "59ea75ce",
   "metadata": {
    "scrolled": true
   },
   "outputs": [
    {
     "data": {
      "text/plain": [
       "(1, 3, 5, 7, 9)"
      ]
     },
     "execution_count": 21,
     "metadata": {},
     "output_type": "execute_result"
    }
   ],
   "source": [
    "a=(1,2,3,4,5,6,7,8,9)\n",
    "idx_start=0\n",
    "idx_end=9\n",
    "idx_steps=2\n",
    "a[idx_start:idx_end:idx_steps]"
   ]
  }
 ],
 "metadata": {
  "celltoolbar": "Raw Cell Format",
  "kernelspec": {
   "display_name": "Python 3 (ipykernel)",
   "language": "python",
   "name": "python3"
  },
  "language_info": {
   "codemirror_mode": {
    "name": "ipython",
    "version": 3
   },
   "file_extension": ".py",
   "mimetype": "text/x-python",
   "name": "python",
   "nbconvert_exporter": "python",
   "pygments_lexer": "ipython3",
   "version": "3.9.7"
  }
 },
 "nbformat": 4,
 "nbformat_minor": 5
}
