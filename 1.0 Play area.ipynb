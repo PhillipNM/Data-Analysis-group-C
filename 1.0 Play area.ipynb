{
 "cells": [
  {
   "cell_type": "code",
   "execution_count": 21,
   "id": "69a2339d",
   "metadata": {},
   "outputs": [
    {
     "name": "stdout",
     "output_type": "stream",
     "text": [
      "  Unnamed: 0       country    capital    area  population\n",
      "0         BR        Brazil   Brasilia   8.516      200.40\n",
      "1         RU        Russia     Moscow  17.100      143.50\n",
      "2         IN         India  New Delhi   3.286     1252.00\n",
      "3         CH         China    Beijing   9.597     1357.00\n",
      "4         SA  South Africa   Pretoria   1.221       52.98\n"
     ]
    }
   ],
   "source": [
    "# Import the course packages\n",
    "import numpy as np\n",
    "import pandas as pd\n",
    "import matplotlib.pyplot as plt\n",
    "\n",
    "# Import three datasets\n",
    "gapminder = pd.read_csv(\"/Users/Phillip/OneDrive/Python Data Training/gapminder.csv\")\n",
    "brics = pd.read_csv(\"/Users/Phillip/OneDrive/Python Data Training/brics.csv\")\n",
    "cars = pd.read_csv (\"/Users/Phillip/OneDrive/Python Data Training/cars.csv\")\n",
    "\n",
    "# Print the first DataFrame\n",
    "print(brics)\n",
    "\n"
   ]
  },
  {
   "cell_type": "code",
   "execution_count": 23,
   "id": "c1eaa8fa",
   "metadata": {},
   "outputs": [
    {
     "name": "stdout",
     "output_type": "stream",
     "text": [
      "the population of Brazil is 200.4 million!\n",
      "the population of Russia is 143.5 million!\n",
      "the population of India is 1252.0 million!\n",
      "the population of China is 1357.0 million!\n",
      "the population of South Africa is 52.98 million!\n"
     ]
    }
   ],
   "source": [
    "# 1. Create a loop that prints each country and population in brics\n",
    "for lab, row in brics.iterrows():\n",
    "    print(\n",
    "        \"the population of \"\n",
    "        + str(row[\"country\"])\n",
    "        + \" is \"\n",
    "        +str(row[\"population\"])\n",
    "        +\" million!\"\n",
    "    )"
   ]
  },
  {
   "cell_type": "code",
   "execution_count": 53,
   "id": "3586f5e6",
   "metadata": {},
   "outputs": [
    {
     "name": "stdout",
     "output_type": "stream",
     "text": [
      "[6 5 2]\n"
     ]
    }
   ],
   "source": [
    "import numpy as np\n",
    "store = np.array([\"X\", \"Z\", \"Z\", \"Z\"])\n",
    "cost  = np.array([2, 6, 5, 2])\n",
    "select_cost = cost[store == \"Z\"]\n",
    "print(select_cost)"
   ]
  }
 ],
 "metadata": {
  "celltoolbar": "Raw Cell Format",
  "kernelspec": {
   "display_name": "Python 3 (ipykernel)",
   "language": "python",
   "name": "python3"
  },
  "language_info": {
   "codemirror_mode": {
    "name": "ipython",
    "version": 3
   },
   "file_extension": ".py",
   "mimetype": "text/x-python",
   "name": "python",
   "nbconvert_exporter": "python",
   "pygments_lexer": "ipython3",
   "version": "3.9.7"
  }
 },
 "nbformat": 4,
 "nbformat_minor": 5
}
