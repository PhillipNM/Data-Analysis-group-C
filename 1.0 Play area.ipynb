{
 "cells": [
  {
   "cell_type": "code",
   "execution_count": 20,
   "id": "69a2339d",
   "metadata": {},
   "outputs": [
    {
     "name": "stdout",
     "output_type": "stream",
     "text": [
      "  Unnamed: 0       country    capital    area  population\n",
      "0         BR        Brazil   Brasilia   8.516      200.40\n",
      "1         RU        Russia     Moscow  17.100      143.50\n",
      "2         IN         India  New Delhi   3.286     1252.00\n",
      "3         CH         China    Beijing   9.597     1357.00\n",
      "4         SA  South Africa   Pretoria   1.221       52.98\n",
      "  Unnamed: 0  cars_per_cap        country  drives_right\n",
      "0         US           809  United States          True\n",
      "1        AUS           731      Australia         False\n",
      "2        JAP           588          Japan         False\n",
      "3         IN            18          India         False\n",
      "4         RU           200         Russia          True\n",
      "5        MOR            70        Morocco          True\n",
      "6         EG            45          Egypt          True\n",
      "     Unnamed: 0             country  year  population      cont  life_exp  \\\n",
      "0            11         Afghanistan  2007    31889923      Asia    43.828   \n",
      "1            23             Albania  2007     3600523    Europe    76.423   \n",
      "2            35             Algeria  2007    33333216    Africa    72.301   \n",
      "3            47              Angola  2007    12420476    Africa    42.731   \n",
      "4            59           Argentina  2007    40301927  Americas    75.320   \n",
      "..          ...                 ...   ...         ...       ...       ...   \n",
      "137        1655             Vietnam  2007    85262356      Asia    74.249   \n",
      "138        1667  West Bank and Gaza  2007     4018332      Asia    73.422   \n",
      "139        1679         Yemen, Rep.  2007    22211743      Asia    62.698   \n",
      "140        1691              Zambia  2007    11746035    Africa    42.384   \n",
      "141        1703            Zimbabwe  2007    12311143    Africa    43.487   \n",
      "\n",
      "          gdp_cap  \n",
      "0      974.580338  \n",
      "1     5937.029526  \n",
      "2     6223.367465  \n",
      "3     4797.231267  \n",
      "4    12779.379640  \n",
      "..            ...  \n",
      "137   2441.576404  \n",
      "138   3025.349798  \n",
      "139   2280.769906  \n",
      "140   1271.211593  \n",
      "141    469.709298  \n",
      "\n",
      "[142 rows x 7 columns]\n"
     ]
    }
   ],
   "source": [
    "# Import the course packages\n",
    "import numpy as np\n",
    "import pandas as pd\n",
    "import matplotlib.pyplot as plt\n",
    "\n",
    "# Import two datasets\n",
    "gapminder = pd.read_csv(\"/Users/Phillip/OneDrive/Python Data Training/gapminder.csv\")\n",
    "brics = pd.read_csv(\"/Users/Phillip/OneDrive/Python Data Training/brics.csv\")\n",
    "cars = pd.read_csv (\"/Users/Phillip/OneDrive/Python Data Training/cars.csv\")\n",
    "\n",
    "# Print the first DataFrame\n",
    "print(brics)\n",
    "print(cars)\n",
    "print(gapminder)\n"
   ]
  },
  {
   "cell_type": "code",
   "execution_count": null,
   "id": "c1eaa8fa",
   "metadata": {},
   "outputs": [],
   "source": []
  }
 ],
 "metadata": {
  "celltoolbar": "Raw Cell Format",
  "kernelspec": {
   "display_name": "Python 3 (ipykernel)",
   "language": "python",
   "name": "python3"
  },
  "language_info": {
   "codemirror_mode": {
    "name": "ipython",
    "version": 3
   },
   "file_extension": ".py",
   "mimetype": "text/x-python",
   "name": "python",
   "nbconvert_exporter": "python",
   "pygments_lexer": "ipython3",
   "version": "3.9.7"
  }
 },
 "nbformat": 4,
 "nbformat_minor": 5
}
