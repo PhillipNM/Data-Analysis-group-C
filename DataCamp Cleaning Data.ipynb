{
 "cells": [
  {
   "cell_type": "code",
   "execution_count": 6,
   "id": "83455c13",
   "metadata": {},
   "outputs": [
    {
     "name": "stdout",
     "output_type": "stream",
     "text": [
      "Banking_Dirty:\n",
      "   Unnamed: 0   cust_id  birth_date  Age  acct_amount  inv_amount   fund_A  \\\n",
      "0           0  870A9281    6/9/1962   58     63523.31       51295  30105.0   \n",
      "1           1  166B05B0  12/16/1962   58     38175.46       15050   4995.0   \n",
      "2           2  BFC13E88   9/12/1990   34     59863.77       24567  10323.0   \n",
      "3           3  F2158F66   11/3/1985   35     84132.10       23712   3908.0   \n",
      "4           4  7A73F334   5/17/1990   30    120512.00       93230  12158.4   \n",
      "\n",
      "    fund_B   fund_C   fund_D account_opened last_transaction  \n",
      "0   4138.0   1420.0  15632.0       2/9/2018         22-02-19  \n",
      "1    938.0   6696.0   2421.0       28-02-19         31-10-18  \n",
      "2   4590.0   8469.0   1185.0       25-04-18         2/4/2018  \n",
      "3    492.0   6482.0  12830.0      7/11/2017        8/11/2018  \n",
      "4  51281.0  13434.0  18383.0       14-05-18         19-07-18  \n"
     ]
    }
   ],
   "source": [
    "# Import the course packages\n",
    "import numpy as np\n",
    "import pandas as pd\n",
    "import datetime as dt\n",
    "\n",
    "\n",
    "# Import three datasets\n",
    "rideshare = pd.read_csv(\"/Users/Phillip/OneDrive/Python Data Training/ride_sharing_new.csv\")\n",
    "airlines_final = pd.read_csv(\"/Users/Phillip/OneDrive/Python Data Training/airlines_final.csv\")\n",
    "banking_dirty = pd.read_csv(\"/Users/Phillip/OneDrive/Python Data Training/banking_dirty.csv\")\n",
    "restaurants = pd.read_csv(\"/Users/Phillip/OneDrive/Python Data Training/restaurants_L2.csv\")\n",
    "restaurants_dirty = pd.read_csv(\"/Users/Phillip/OneDrive/Python Data Training/restaurants_L2_dirty.csv\")\n",
    "\n",
    "df_rideshare = pd.DataFrame(rideshare)\n",
    "df_airlines_final = pd.DataFrame(airlines_final)\n",
    "df_banking_dirty = pd.DataFrame(banking_dirty)\n",
    "\n",
    "# Print the first DataFrame\n",
    "#print('Ride Sharing:')\n",
    "#print(df_rideshare.head())\n",
    "#print('Airlines Final:')\n",
    "#print(df_airlines_final.head())\n",
    "print('Banking_Dirty:')\n",
    "print(df_banking_dirty.head())\n",
    "\n"
   ]
  },
  {
   "cell_type": "code",
   "execution_count": 16,
   "id": "5a2bc457",
   "metadata": {},
   "outputs": [
    {
     "name": "stdout",
     "output_type": "stream",
     "text": [
      "Number of inconsistent investments:  8\n",
      "    Unnamed: 0   cust_id  birth_date  Age  acct_amount  inv_amount    fund_A  \\\n",
      "4            4  7A73F334   5/17/1990   30    120512.00       93230  12158.40   \n",
      "12          12  EEBD980F  11/20/1990   34     57838.49       50812  18314.00   \n",
      "22          22  96525DA6  11/23/1992   28     82511.24       33927   8206.00   \n",
      "43          43  38B8CD9C   6/25/1970   50     28834.71       27531    314.00   \n",
      "47          47  68C55974    7/8/1962   58     95038.14       66796  33764.00   \n",
      "65          65  0A9BA907   9/21/1966   54     90469.53       70171  28615.00   \n",
      "89          89  C580AE41    6/1/1968   52     96673.37       68466   8489.36   \n",
      "92          92  A07D5C92   9/20/1990   30     99577.36       60407   6467.00   \n",
      "\n",
      "      fund_B    fund_C    fund_D account_opened last_transaction  \n",
      "4   51281.00  13434.00  18383.00       14-05-18         19-07-18  \n",
      "12   1477.00  29049.48   5539.00      8/12/2018         4/1/2020  \n",
      "22  15019.00   5559.60   6182.00       23-07-18         7/8/2018  \n",
      "43   6072.28  14163.00   7908.00       17-09-18         5/2/2020  \n",
      "47   5042.00  10659.00  19237.41       3/4/2018         25-09-18  \n",
      "65  21720.05  11906.00  10763.00       15-06-18         28-08-18  \n",
      "89  28592.00   2439.00  30419.00       28-09-18         17-09-18  \n",
      "92  20861.00   9861.00  26004.16       17-11-17         16-01-20  \n"
     ]
    }
   ],
   "source": [
    "# Store fund columns to sum against\n",
    "fund_columns = [['fund_A', 'fund_B', 'fund_C', 'fund_D']]\n",
    "\n",
    "# Find rows where fund_columns row sum == inv_amount\n",
    "inv_equ = df_banking_dirty[['fund_A','fund_B','fund_C','fund_D']].sum(axis=1) == df_banking_dirty['inv_amount']\n",
    "\n",
    "# Store consistent and inconsistent data\n",
    "consistent_inv = df_banking_dirty[inv_equ]\n",
    "inconsistent_inv = df_banking_dirty[~inv_equ]\n",
    "\n",
    "# Store consistent and inconsistent data\n",
    "print(\"Number of inconsistent investments: \", inconsistent_inv.shape[0])\n",
    "\n",
    "print(inconsistent_inv)"
   ]
  }
 ],
 "metadata": {
  "kernelspec": {
   "display_name": "Python 3 (ipykernel)",
   "language": "python",
   "name": "python3"
  },
  "language_info": {
   "codemirror_mode": {
    "name": "ipython",
    "version": 3
   },
   "file_extension": ".py",
   "mimetype": "text/x-python",
   "name": "python",
   "nbconvert_exporter": "python",
   "pygments_lexer": "ipython3",
   "version": "3.9.7"
  }
 },
 "nbformat": 4,
 "nbformat_minor": 5
}
