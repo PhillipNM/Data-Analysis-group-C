{
 "cells": [
  {
   "cell_type": "code",
   "execution_count": 12,
   "id": "b65d08da",
   "metadata": {},
   "outputs": [],
   "source": [
    "#pip install python-Levenshtein\n"
   ]
  },
  {
   "cell_type": "code",
   "execution_count": 8,
   "id": "bd2a76de",
   "metadata": {},
   "outputs": [
    {
     "ename": "ModuleNotFoundError",
     "evalue": "No module named 'recordlinkage'",
     "output_type": "error",
     "traceback": [
      "\u001b[1;31m---------------------------------------------------------------------------\u001b[0m",
      "\u001b[1;31mModuleNotFoundError\u001b[0m                       Traceback (most recent call last)",
      "\u001b[1;32m~\\AppData\\Local\\Temp/ipykernel_25316/3599870605.py\u001b[0m in \u001b[0;36m<module>\u001b[1;34m\u001b[0m\n\u001b[0;32m      9\u001b[0m \u001b[1;32mfrom\u001b[0m \u001b[0mfuzzywuzzy\u001b[0m \u001b[1;32mimport\u001b[0m \u001b[0mprocess\u001b[0m\u001b[1;33m\u001b[0m\u001b[1;33m\u001b[0m\u001b[0m\n\u001b[0;32m     10\u001b[0m \u001b[1;32mfrom\u001b[0m \u001b[0mfuzzywuzzy\u001b[0m \u001b[1;32mimport\u001b[0m \u001b[0mfuzz\u001b[0m\u001b[1;33m\u001b[0m\u001b[1;33m\u001b[0m\u001b[0m\n\u001b[1;32m---> 11\u001b[1;33m \u001b[1;32mimport\u001b[0m \u001b[0mrecordlinkage\u001b[0m\u001b[1;33m\u001b[0m\u001b[1;33m\u001b[0m\u001b[0m\n\u001b[0m\u001b[0;32m     12\u001b[0m \u001b[1;33m\u001b[0m\u001b[0m\n\u001b[0;32m     13\u001b[0m \u001b[1;31m# Import three datasets\u001b[0m\u001b[1;33m\u001b[0m\u001b[1;33m\u001b[0m\u001b[0m\n",
      "\u001b[1;31mModuleNotFoundError\u001b[0m: No module named 'recordlinkage'"
     ]
    }
   ],
   "source": [
    "# Import the course packages\n",
    "\n",
    "import numpy as np\n",
    "import pandas as pd\n",
    "import datetime as dt\n",
    "#import missingno as msno\n",
    "import matplotlib.pyplot as plt\n",
    "import fuzzywuzzy \n",
    "from fuzzywuzzy import process\n",
    "from fuzzywuzzy import fuzz\n",
    "import recordlinkage\n",
    "\n",
    "# Import three datasets\n",
    "rideshare = pd.read_csv(\"/Users/Phillip/FIL Data Analysis group C/Downloads/ride_sharing_new.csv\")\n",
    "airlines_final = pd.read_csv(\"/Users/Phillip/FIL Data Analysis group C/Downloads/airlines_final.csv\")\n",
    "banking_dirty = pd.read_csv(\"/Users/Phillip/FIL Data Analysis group C/Downloads/banking_dirty.csv\")\n",
    "restaurants = pd.read_csv(\"/Users/Phillip/FIL Data Analysis group C/Downloads/restaurants_L2.csv\")\n",
    "restaurants_dirty = pd.read_csv(\"/Users/Phillip/FIL Data Analysis group C/Downloads/restaurants_L2_dirty.csv\")\n",
    "\n",
    "df_rideshare = pd.DataFrame(rideshare)\n",
    "df_airlines_final = pd.DataFrame(airlines_final)\n",
    "df_banking_dirty = pd.DataFrame(banking_dirty)\n",
    "df_restaurants = pd.DataFrame(restaurants)\n",
    "df_restaurants_dirty = pd.DataFrame(restaurants_dirty)\n",
    "\n",
    "# Print the first DataFrame\n",
    "#print('Ride Sharing:')\n",
    "#print(df_rideshare.head())\n",
    "#print('Airlines Final:')\n",
    "#print(df_airlines_final.head())\n",
    "print('Banking_Dirty:')\n",
    "print(df_banking_dirty.head())\n",
    "\n"
   ]
  },
  {
   "cell_type": "code",
   "execution_count": 4,
   "id": "ef86a7c8",
   "metadata": {},
   "outputs": [
    {
     "name": "stdout",
     "output_type": "stream",
     "text": [
      "Number of inconsistent investments:  8\n",
      "    Unnamed: 0   cust_id  birth_date  Age  acct_amount  inv_amount    fund_A  \\\n",
      "4            4  7A73F334   5/17/1990   30    120512.00       93230  12158.40   \n",
      "12          12  EEBD980F  11/20/1990   34     57838.49       50812  18314.00   \n",
      "22          22  96525DA6  11/23/1992   28     82511.24       33927   8206.00   \n",
      "43          43  38B8CD9C   6/25/1970   50     28834.71       27531    314.00   \n",
      "47          47  68C55974    7/8/1962   58     95038.14       66796  33764.00   \n",
      "65          65  0A9BA907   9/21/1966   54     90469.53       70171  28615.00   \n",
      "89          89  C580AE41    6/1/1968   52     96673.37       68466   8489.36   \n",
      "92          92  A07D5C92   9/20/1990   30     99577.36       60407   6467.00   \n",
      "\n",
      "      fund_B    fund_C    fund_D account_opened last_transaction  \n",
      "4   51281.00  13434.00  18383.00       14-05-18         19-07-18  \n",
      "12   1477.00  29049.48   5539.00      8/12/2018         4/1/2020  \n",
      "22  15019.00   5559.60   6182.00       23-07-18         7/8/2018  \n",
      "43   6072.28  14163.00   7908.00       17-09-18         5/2/2020  \n",
      "47   5042.00  10659.00  19237.41       3/4/2018         25-09-18  \n",
      "65  21720.05  11906.00  10763.00       15-06-18         28-08-18  \n",
      "89  28592.00   2439.00  30419.00       28-09-18         17-09-18  \n",
      "92  20861.00   9861.00  26004.16       17-11-17         16-01-20  \n"
     ]
    }
   ],
   "source": [
    "# Store fund columns to sum against\n",
    "fund_columns = [['fund_A', 'fund_B', 'fund_C', 'fund_D']]\n",
    "\n",
    "# Find rows where fund_columns row sum == inv_amount\n",
    "inv_equ = df_banking_dirty[['fund_A','fund_B','fund_C','fund_D']].sum(axis=1) == df_banking_dirty['inv_amount']\n",
    "\n",
    "# Store consistent and inconsistent data\n",
    "consistent_inv = df_banking_dirty[inv_equ]\n",
    "inconsistent_inv = df_banking_dirty[~inv_equ]\n",
    "\n",
    "# Store consistent and inconsistent data\n",
    "print(\"Number of inconsistent investments: \", inconsistent_inv.shape[0])\n",
    "\n",
    "print(inconsistent_inv)"
   ]
  },
  {
   "cell_type": "code",
   "execution_count": 23,
   "id": "df236613",
   "metadata": {},
   "outputs": [
    {
     "name": "stdout",
     "output_type": "stream",
     "text": [
      "50\n",
      "[('FULL_LEAD_TIME', 51), ('Lead_time_planning', 50), ('PLANNING_TIME_FENCE_CODE', 36), ('BUILD_IN_WIP_FLAG', 26)]\n"
     ]
    }
   ],
   "source": [
    "print(fuzz.partial_ratio('Total replenishment lead time (in workdays)', 'Lead_time_planning'))\n",
    "query = 'Total replenishment lead time (in workdays)'\n",
    "choices = ['PLANNING_TIME_FENCE_CODE', 'BUILD_IN_WIP_FLAG','Lead_time_planning', 'FULL_LEAD_TIME']\n",
    "print(process.extract(query, choices))"
   ]
  },
  {
   "cell_type": "code",
   "execution_count": 24,
   "id": "9ea4a1bc",
   "metadata": {
    "scrolled": false
   },
   "outputs": [
    {
     "name": "stdout",
     "output_type": "stream",
     "text": [
      "['american' 'asian' 'italian' 'coffeebar' 'mexican' 'southwestern'\n",
      " 'steakhouses' 'southern' 'cajun']\n",
      "['american' 'californian' 'japanese' 'cajun/creole' 'hot dogs' 'diners'\n",
      " 'delis' 'hamburgers' 'seafood' 'italian' 'coffee shops' 'russian'\n",
      " 'steakhouses' 'mexican/tex-mex' 'noodle shops' 'mexican' 'middle eastern'\n",
      " 'asian' 'vietnamese' 'health food' 'american ( new )' 'pacific new wave'\n",
      " 'indonesian' 'eclectic' 'chicken' 'fast food' 'southern/soul' 'coffeebar'\n",
      " 'continental' 'french ( new )' 'desserts' 'chinese' 'pizza']\n",
      "[('asian', 100), ('indonesian', 72), ('italian', 67), ('russian', 67), ('american', 62), ('californian', 54), ('japanese', 54), ('mexican/tex-mex', 54), ('american ( new )', 54), ('mexican', 50)]\n",
      "82\n"
     ]
    }
   ],
   "source": [
    "# Store the unique values of cuisine_type in unique_types\n",
    "unique_types = df_restaurants[\"type\"].unique()\n",
    "unique_types_dirty = df_restaurants_dirty[\"type\"].unique()\n",
    "print(unique_types)\n",
    "print(unique_types_dirty)\n",
    "\n",
    "# Calculate similarity of 'asian' to all values of unique_types\n",
    "print(process.extract('asian', unique_types_dirty, limit = len(unique_types_dirty.max())))\n",
    "print(len(restaurants_dirty.type))"
   ]
  },
  {
   "cell_type": "code",
   "execution_count": 4,
   "id": "10803bb7",
   "metadata": {},
   "outputs": [
    {
     "name": "stdout",
     "output_type": "stream",
     "text": [
      "     Unnamed: 0                       name                       addr  \\\n",
      "0             0  arnie morton's of chicago   435 s. la cienega blv .    \n",
      "1             1         art's delicatessen       12224 ventura blvd.    \n",
      "2             2                  campanile       624 s. la brea ave.    \n",
      "3             3                      fenix    8358 sunset blvd. west    \n",
      "4             4         grill on the alley           9560 dayton way    \n",
      "..          ...                        ...                        ...   \n",
      "331         331          vivande porta via         2125 fillmore st.    \n",
      "332         332         vivande ristorante      670 golden gate ave.    \n",
      "333         333               world wrapps         2257 chestnut st.    \n",
      "334         334                    wu kong             101 spear st.    \n",
      "335         335                  yank sing           427 battery st.    \n",
      "\n",
      "              city       phone      type  \n",
      "0      los angeles  3102461501  american  \n",
      "1      studio city  8187621221  american  \n",
      "2      los angeles  2139381447  american  \n",
      "3        hollywood  2138486677  american  \n",
      "4      los angeles  3102760615  american  \n",
      "..             ...         ...       ...  \n",
      "331  san francisco  4153464430   italian  \n",
      "332  san francisco  4156739245   italian  \n",
      "333  san francisco  4155639727  american  \n",
      "334  san francisco  4159579300     asian  \n",
      "335  san francisco  4155414949     asian  \n",
      "\n",
      "[336 rows x 6 columns]\n"
     ]
    }
   ],
   "source": [
    "print(df_restaurants)"
   ]
  },
  {
   "cell_type": "code",
   "execution_count": 13,
   "id": "479ec78c",
   "metadata": {},
   "outputs": [
    {
     "ename": "ModuleNotFoundError",
     "evalue": "No module named 'recordlinkage'",
     "output_type": "error",
     "traceback": [
      "\u001b[1;31m---------------------------------------------------------------------------\u001b[0m",
      "\u001b[1;31mModuleNotFoundError\u001b[0m                       Traceback (most recent call last)",
      "\u001b[1;32m~\\AppData\\Local\\Temp/ipykernel_25316/2288671799.py\u001b[0m in \u001b[0;36m<module>\u001b[1;34m\u001b[0m\n\u001b[1;32m----> 1\u001b[1;33m \u001b[1;32mimport\u001b[0m \u001b[0mrecordlinkage\u001b[0m\u001b[1;33m\u001b[0m\u001b[1;33m\u001b[0m\u001b[0m\n\u001b[0m\u001b[0;32m      2\u001b[0m \u001b[0mindexer\u001b[0m \u001b[1;33m=\u001b[0m \u001b[0mrecordlinkage\u001b[0m\u001b[1;33m.\u001b[0m\u001b[0mindex\u001b[0m\u001b[1;33m(\u001b[0m\u001b[1;33m)\u001b[0m\u001b[1;33m\u001b[0m\u001b[1;33m\u001b[0m\u001b[0m\n\u001b[0;32m      3\u001b[0m \u001b[0mindexer\u001b[0m\u001b[1;33m.\u001b[0m\u001b[0mblock\u001b[0m\u001b[1;33m(\u001b[0m\u001b[1;34m'type'\u001b[0m\u001b[1;33m)\u001b[0m\u001b[1;33m\u001b[0m\u001b[1;33m\u001b[0m\u001b[0m\n",
      "\u001b[1;31mModuleNotFoundError\u001b[0m: No module named 'recordlinkage'"
     ]
    }
   ],
   "source": [
    "import recordlinkage\n",
    "indexer = recordlinkage.index()\n",
    "indexer.block('type')"
   ]
  }
 ],
 "metadata": {
  "kernelspec": {
   "display_name": "Python 3 (ipykernel)",
   "language": "python",
   "name": "python3"
  },
  "language_info": {
   "codemirror_mode": {
    "name": "ipython",
    "version": 3
   },
   "file_extension": ".py",
   "mimetype": "text/x-python",
   "name": "python",
   "nbconvert_exporter": "python",
   "pygments_lexer": "ipython3",
   "version": "3.9.7"
  }
 },
 "nbformat": 4,
 "nbformat_minor": 5
}
