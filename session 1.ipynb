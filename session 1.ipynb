{
 "cells": [
  {
   "cell_type": "code",
   "execution_count": 41,
   "id": "a6f69385",
   "metadata": {},
   "outputs": [
    {
     "name": "stdout",
     "output_type": "stream",
     "text": [
      "add: 5\n",
      "sunbract: -1\n",
      "multiply: 6\n",
      "divide: 0.6666666666666666\n",
      "exponent: 8\n",
      "//?: 0\n",
      "%?: 2\n"
     ]
    }
   ],
   "source": [
    "a=2; b=3\n",
    "print(\"add: \"+str(a+b))\n",
    "print(\"sunbract: \"+str(a-b))\n",
    "print(\"multiply: \"+str(a*b))\n",
    "print(\"divide: \"+str(a/b))\n",
    "print(\"exponent: \"+str(a**b))\n",
    "print(\"//?: \"+str(a//b)) #looked up on google this is a floor divisom\n",
    "print(\"%?: \"+str(a%b))  #looked up on google this is a modulus\n"
   ]
  },
  {
   "cell_type": "code",
   "execution_count": null,
   "id": "34fc5884",
   "metadata": {},
   "outputs": [],
   "source": []
  }
 ],
 "metadata": {
  "kernelspec": {
   "display_name": "Python 3 (ipykernel)",
   "language": "python",
   "name": "python3"
  },
  "language_info": {
   "codemirror_mode": {
    "name": "ipython",
    "version": 3
   },
   "file_extension": ".py",
   "mimetype": "text/x-python",
   "name": "python",
   "nbconvert_exporter": "python",
   "pygments_lexer": "ipython3",
   "version": "3.9.7"
  }
 },
 "nbformat": 4,
 "nbformat_minor": 5
}
