{
 "cells": [
  {
   "cell_type": "code",
   "execution_count": 30,
   "id": "c97bdf77",
   "metadata": {},
   "outputs": [],
   "source": [
    "def square(value):   #<- Function header\n",
    "    \"\"\"Return the square of a value.\"\"\"  #docstring using triple \"\" (e.g.\"\"\"text\"\"\")\n",
    "    new_value = value**2   #<- Function body\n",
    "    return new_value\n"
   ]
  },
  {
   "cell_type": "code",
   "execution_count": 33,
   "id": "ebf17dab",
   "metadata": {},
   "outputs": [
    {
     "name": "stdout",
     "output_type": "stream",
     "text": [
      "25\n"
     ]
    }
   ],
   "source": [
    "num = square(5)\n",
    "print(num)"
   ]
  },
  {
   "cell_type": "code",
   "execution_count": 34,
   "id": "a9d92c31",
   "metadata": {},
   "outputs": [
    {
     "name": "stdout",
     "output_type": "stream",
     "text": [
      "dataanalysisvisualization\n",
      "3\n",
      "111\n"
     ]
    }
   ],
   "source": [
    "object1 = \"data\" + \"analysis\" + \"visualization\"\n",
    "object2 = 1 * 3\n",
    "object3 = \"1\" * 3\n",
    "print(object1)\n",
    "print(object2)\n",
    "print(object3)"
   ]
  },
  {
   "cell_type": "code",
   "execution_count": 36,
   "id": "5ab40bf7",
   "metadata": {},
   "outputs": [
    {
     "name": "stdout",
     "output_type": "stream",
     "text": [
      "4.89\n",
      "<class 'float'>\n",
      "<class 'str'>\n",
      "<class 'NoneType'>\n"
     ]
    }
   ],
   "source": [
    "x = 4.89\n",
    "y1 = str(x)\n",
    "y2 = print(x)\n",
    "print(type(x))\n",
    "print(type(y1))\n",
    "print(type(y2))"
   ]
  },
  {
   "cell_type": "code",
   "execution_count": 46,
   "id": "362da2ce",
   "metadata": {},
   "outputs": [
    {
     "name": "stdout",
     "output_type": "stream",
     "text": [
      "hey!!!\n"
     ]
    }
   ],
   "source": [
    "def shout(word):\n",
    "    \"\"\"Print a string with three exclamation marks(!)\"\"\"\n",
    "    new_word = word+\"!\"*3\n",
    "    return new_word\n",
    "\n",
    "yell = shout('hey')\n",
    "\n",
    "print(yell)"
   ]
  },
  {
   "cell_type": "code",
   "execution_count": 49,
   "id": "04aeed13",
   "metadata": {},
   "outputs": [
    {
     "name": "stdout",
     "output_type": "stream",
     "text": [
      "(8, 9)\n"
     ]
    }
   ],
   "source": [
    "def raise_both(value1, value2):\n",
    "    \"\"\"Raise value1 to the power of value2\n",
    "    and vice versa\"\"\"\n",
    "    \n",
    "    new_value1 = value1 ** value2\n",
    "    new_value2 = value2 ** value1\n",
    "    \n",
    "    new_tuple = (new_value1, new_value2)\n",
    "    \n",
    "    return new_tuple\n",
    "\n",
    "result = raise_both(2, 3)\n",
    "\n",
    "print(result)"
   ]
  },
  {
   "cell_type": "code",
   "execution_count": 60,
   "id": "3f9b7c6c",
   "metadata": {},
   "outputs": [
    {
     "name": "stdout",
     "output_type": "stream",
     "text": [
      "congratulations!!! you!!!\n"
     ]
    }
   ],
   "source": [
    "def shout(word1, word2, value):\n",
    "    \"\"\"concatenate strings with three exclamation marks(!)\"\"\"\n",
    "    \n",
    "    shout1 = word1+\"!\"*value\n",
    "    shout2 = word2+\"!\"*value\n",
    "    \n",
    "    new_shout = shout1+\" \"+shout2\n",
    "    \n",
    "    return new_shout\n",
    "\n",
    "yell = shout('congratulations', 'you', 3)\n",
    "\n",
    "print(yell)"
   ]
  },
  {
   "cell_type": "code",
   "execution_count": 63,
   "id": "4175cb86",
   "metadata": {},
   "outputs": [
    {
     "name": "stdout",
     "output_type": "stream",
     "text": [
      "Hey!!!!! Stop!!!!!\n"
     ]
    }
   ],
   "source": [
    "word1 = \"Hey\"\n",
    "word2 = \"Stop\"\n",
    "value = 5\n",
    "yell = shout(word1,word2,value)\n",
    "\n",
    "print(yell)\n"
   ]
  }
 ],
 "metadata": {
  "kernelspec": {
   "display_name": "Python 3 (ipykernel)",
   "language": "python",
   "name": "python3"
  },
  "language_info": {
   "codemirror_mode": {
    "name": "ipython",
    "version": 3
   },
   "file_extension": ".py",
   "mimetype": "text/x-python",
   "name": "python",
   "nbconvert_exporter": "python",
   "pygments_lexer": "ipython3",
   "version": "3.9.7"
  }
 },
 "nbformat": 4,
 "nbformat_minor": 5
}
