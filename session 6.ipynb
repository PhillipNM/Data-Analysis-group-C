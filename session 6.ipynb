{
 "cells": [
  {
   "cell_type": "code",
   "execution_count": 170,
   "id": "9dc6049b",
   "metadata": {},
   "outputs": [],
   "source": [
    "import requests\n",
    "import pandas as pd"
   ]
  },
  {
   "cell_type": "code",
   "execution_count": 172,
   "id": "64a67ec3",
   "metadata": {},
   "outputs": [
    {
     "name": "stdout",
     "output_type": "stream",
     "text": [
      "<Response [200]>\n"
     ]
    }
   ],
   "source": [
    "data=requests.get(\"http://api.open-notify.org/iss-now.json\")\n",
    "print(data)"
   ]
  },
  {
   "cell_type": "code",
   "execution_count": 173,
   "id": "a80c7778",
   "metadata": {},
   "outputs": [
    {
     "data": {
      "text/plain": [
       "{'message': 'success',\n",
       " 'timestamp': 1655586867,\n",
       " 'iss_position': {'longitude': '-102.4969', 'latitude': '28.0499'}}"
      ]
     },
     "execution_count": 173,
     "metadata": {},
     "output_type": "execute_result"
    }
   ],
   "source": [
    "data=data.json()\n",
    "data"
   ]
  },
  {
   "cell_type": "code",
   "execution_count": 183,
   "id": "9f01572c",
   "metadata": {},
   "outputs": [
    {
     "name": "stdout",
     "output_type": "stream",
     "text": [
      "           message   timestamp iss_position\n",
      "latitude   success  1655586867      28.0499\n",
      "longitude  success  1655586867    -102.4969\n"
     ]
    }
   ],
   "source": [
    "#parsing\n",
    "data['iss_position']['longitude']\n",
    "\n",
    "df = pd.DataFrame(data)\n",
    "\n",
    "print(df)\n"
   ]
  },
  {
   "cell_type": "code",
   "execution_count": 1,
   "id": "5d646ed2",
   "metadata": {
    "scrolled": true
   },
   "outputs": [
    {
     "name": "stdout",
     "output_type": "stream",
     "text": [
      "Results for: IBM using an interval of 5min\n",
      "                        1. open   2. high    3. low  4. close 5. volume\n",
      "Time Zone: US/Eastern                                                  \n",
      "2022-06-17 19:35:00    135.4800  135.4800  135.4800  135.4800       300\n",
      "2022-06-17 18:45:00    135.5000  135.5000  135.5000  135.5000       650\n",
      "2022-06-17 17:55:00    135.0200  135.0200  135.0200  135.0200      3301\n",
      "2022-06-17 17:35:00    135.0400  135.0400  135.0400  135.0400       301\n",
      "2022-06-17 17:15:00    135.0400  135.0400  135.0400  135.0400       400\n"
     ]
    }
   ],
   "source": [
    "#amended code from video on how to convert a nested dictionary into a DataFrame\n",
    "#I added the mykey, mysymbol, myinterval variables to make it easier to udate the url text\n",
    "\n",
    "import pandas as pd\n",
    "import requests\n",
    "\n",
    "mykey='SOXF8NG1W11CQG7M'  #Replace DEMO with the key from alphavantage (Phillip's key SOXF8NG1W11CQG7M')\n",
    "mysymbol='IBM' #variable to hold symbol\n",
    "myinterval='5min' #variable to hold time interval, can only be \"1min\", \"5min\", \"15min\", \"30min\", \"60min\"\n",
    "\n",
    "#replace the \"demo\" apikey below with your own key (\"mykey\" above) from https://www.alphavantage.co/support/#api-key\n",
    "#replace the string with concatenations to use symbol and time variables (mysymbol, myinterval) from above\n",
    "url = 'https://www.alphavantage.co/query?function=TIME_SERIES_INTRADAY&symbol='+mysymbol+'&interval='+myinterval+'&apikey=mykey'\n",
    "r = requests.get(url)\n",
    "data = r.json()\n",
    "\n",
    "#print(data) #used to see raw data file, remove the '#'\n",
    "\n",
    "#there are 2 sets of list data in the file (the \"meta data\" and the \"time series\" data), so we need to exclude \n",
    "#the meta data section and get the time series list.\n",
    "#convert data to DataFarme and select only the time series data and then use \".T\" to transpose the index\n",
    "df_data = pd.DataFrame(data['Time Series ('+myinterval+')']).T #use a text concatenation so the series name matches \n",
    "#the selected column name (\"Time Series (Nmin)\") as this changes with the \"myinterval\" time interval variable selected,\n",
    "#the \".T\" transposes the data\n",
    "    \n",
    "df_data.index.name='Time Zone: US/Eastern' #set the index column name\n",
    "\n",
    "print(\"Results for: \"+mysymbol+\" using an interval of \"+myinterval)\n",
    "print(df_data.head())"
   ]
  },
  {
   "cell_type": "code",
   "execution_count": 140,
   "id": "8be56995",
   "metadata": {},
   "outputs": [
    {
     "name": "stdout",
     "output_type": "stream",
     "text": [
      "                0       1       2       3\n",
      "type                                     \n",
      "Name         John    Nick     Ali  Joseph\n",
      "Gender       Male    Male  Female    Male\n",
      "Nationality    UK  French     USA  Brazil\n",
      "Age            10      25      35      29\n",
      "\n",
      "      Name  Gender Nationality  Age\n",
      "id                                 \n",
      "0     John    Male          UK   10\n",
      "1     Nick    Male      French   25\n",
      "2      Ali  Female         USA   35\n",
      "3   Joseph    Male      Brazil   29\n"
     ]
    }
   ],
   "source": [
    "#testing orientation of rows and columns from a dicionary\n",
    "patients = {\"Name\":{\"0\":\"John\",\"1\":\"Nick\",\"2\":\"Ali\",\"3\":\"Joseph\"},\n",
    "            \"Gender\":{\"0\":\"Male\",\"1\":\"Male\",\"2\":\"Female\",\"3\":\"Male\"},\n",
    "            \"Nationality\":{\"0\":\"UK\",\"1\":\"French\",\"2\":\"USA\",\"3\":\"Brazil\"},\n",
    "            \"Age\" :{\"0\":10,\"1\":25,\"2\":35,\"3\":29}}\n",
    "df_patients_index = pd.DataFrame.from_dict(patients, orient='index')\n",
    "df_patients_col = pd.DataFrame.from_dict(patients, orient='columns')\n",
    "\n",
    "df_patients_index.index.name='type'\n",
    "df_patients_col.index.name='id'\n",
    "\n",
    "print(df_patients_index)\n",
    "print(\"\")\n",
    "print(df_patients_col)"
   ]
  },
  {
   "cell_type": "code",
   "execution_count": 136,
   "id": "4b1ed18a",
   "metadata": {},
   "outputs": [
    {
     "name": "stdout",
     "output_type": "stream",
     "text": [
      "      Name  Gender Nationality  Age\n",
      "id                                 \n",
      "0     John    Male          UK   10\n",
      "1     Nick    Male      French   25\n",
      "2      Ali  Female         USA   35\n",
      "3   Joseph    Male      Brazil   29\n",
      "                0       1       2       3\n",
      "type                                     \n",
      "Name         John    Nick     Ali  Joseph\n",
      "Gender       Male    Male  Female    Male\n",
      "Nationality    UK  French     USA  Brazil\n",
      "Age            10      25      35      29\n"
     ]
    }
   ],
   "source": [
    "#testing orientation of rows and columns from a dicionary\n",
    "patients = {\"Name\":{\"0\":\"John\",\"1\":\"Nick\",\"2\":\"Ali\",\"3\":\"Joseph\"},\n",
    "            \"Gender\":{\"0\":\"Male\",\"1\":\"Male\",\"2\":\"Female\",\"3\":\"Male\"},\n",
    "            \"Nationality\":{\"0\":\"UK\",\"1\":\"French\",\"2\":\"USA\",\"3\":\"Brazil\"},\n",
    "            \"Age\" :{\"0\":10,\"1\":25,\"2\":35,\"3\":29}}\n",
    "df_patients_index = pd.DataFrame(patients)\n",
    "df_patients_col = pd.DataFrame(patients).T\n",
    "df_patients_index.index.name='id'\n",
    "df_patients_col.index.name='type'\n",
    "\n",
    "print(df_patients_index)\n",
    "print(df_patients_col)"
   ]
  }
 ],
 "metadata": {
  "kernelspec": {
   "display_name": "Python 3 (ipykernel)",
   "language": "python",
   "name": "python3"
  },
  "language_info": {
   "codemirror_mode": {
    "name": "ipython",
    "version": 3
   },
   "file_extension": ".py",
   "mimetype": "text/x-python",
   "name": "python",
   "nbconvert_exporter": "python",
   "pygments_lexer": "ipython3",
   "version": "3.9.7"
  }
 },
 "nbformat": 4,
 "nbformat_minor": 5
}
