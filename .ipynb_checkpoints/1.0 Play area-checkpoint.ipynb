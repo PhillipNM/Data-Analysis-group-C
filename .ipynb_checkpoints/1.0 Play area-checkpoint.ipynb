{
 "cells": [
  {
   "cell_type": "code",
   "execution_count": 6,
   "id": "69a2339d",
   "metadata": {},
   "outputs": [
    {
     "name": "stdout",
     "output_type": "stream",
     "text": [
      "  Unnamed: 0       country    capital    area  population\n",
      "0         BR        Brazil   Brasilia   8.516      200.40\n",
      "1         RU        Russia     Moscow  17.100      143.50\n",
      "2         IN         India  New Delhi   3.286     1252.00\n",
      "3         CH         China    Beijing   9.597     1357.00\n",
      "4         SA  South Africa   Pretoria   1.221       52.98\n"
     ]
    }
   ],
   "source": [
    "# Import the course packages\n",
    "import numpy as np\n",
    "import pandas as pd\n",
    "import matplotlib.pyplot as plt\n",
    "\n",
    "# Import three datasets\n",
    "\n",
    "gapminder = pd.read_csv(\"gapminder.csv\")\n",
    "brics = pd.read_csv(\"brics.csv\")\n",
    "cars = pd.read_csv (\"cars.csv\")\n",
    "rideshare = pd.read_csv(\"ride_sharing_new.csv\")\n",
    "\n",
    "# Print the first DataFrame\n",
    "print(brics)\n",
    "\n"
   ]
  },
  {
   "cell_type": "code",
   "execution_count": 23,
   "id": "c1eaa8fa",
   "metadata": {},
   "outputs": [
    {
     "name": "stdout",
     "output_type": "stream",
     "text": [
      "the population of Brazil is 200.4 million!\n",
      "the population of Russia is 143.5 million!\n",
      "the population of India is 1252.0 million!\n",
      "the population of China is 1357.0 million!\n",
      "the population of South Africa is 52.98 million!\n"
     ]
    }
   ],
   "source": [
    "# 1. Create a loop that prints each country and population in brics\n",
    "for lab, row in brics.iterrows():\n",
    "    print(\n",
    "        \"the population of \"\n",
    "        + str(row[\"country\"])\n",
    "        + \" is \"\n",
    "        +str(row[\"population\"])\n",
    "        +\" million!\"\n",
    "    )"
   ]
  },
  {
   "cell_type": "code",
   "execution_count": 53,
   "id": "3586f5e6",
   "metadata": {},
   "outputs": [
    {
     "name": "stdout",
     "output_type": "stream",
     "text": [
      "[6 5 2]\n"
     ]
    }
   ],
   "source": [
    "import numpy as np\n",
    "store = np.array([\"X\", \"Z\", \"Z\", \"Z\"])\n",
    "cost  = np.array([2, 6, 5, 2])\n",
    "select_cost = cost[store == \"Z\"]\n",
    "print(select_cost)\n"
   ]
  },
  {
   "cell_type": "code",
   "execution_count": 6,
   "id": "38e96b7d",
   "metadata": {},
   "outputs": [
    {
     "data": {
      "text/plain": [
       "tuple"
      ]
     },
     "execution_count": 6,
     "metadata": {},
     "output_type": "execute_result"
    }
   ],
   "source": [
    "a=1,2,3,4,5\n",
    "type(a)"
   ]
  },
  {
   "cell_type": "code",
   "execution_count": 11,
   "id": "31b96c19",
   "metadata": {},
   "outputs": [
    {
     "data": {
      "text/plain": [
       "4"
      ]
     },
     "execution_count": 11,
     "metadata": {},
     "output_type": "execute_result"
    }
   ],
   "source": [
    "a=(1,2,3,4,5)\n",
    "type(a)\n",
    "a[0]\n",
    "a[3]"
   ]
  },
  {
   "cell_type": "code",
   "execution_count": 14,
   "id": "8a1e0c82",
   "metadata": {},
   "outputs": [
    {
     "data": {
      "text/plain": [
       "(2, 3, 4)"
      ]
     },
     "execution_count": 14,
     "metadata": {},
     "output_type": "execute_result"
    }
   ],
   "source": [
    "a[1:4]"
   ]
  },
  {
   "cell_type": "code",
   "execution_count": 15,
   "id": "c62483f5",
   "metadata": {},
   "outputs": [
    {
     "data": {
      "text/plain": [
       "(1, 3, 5, 7, 9)"
      ]
     },
     "execution_count": 15,
     "metadata": {},
     "output_type": "execute_result"
    }
   ],
   "source": [
    "a=(1,2,3,4,5,6,7,8,9)\n",
    "a[:9:2]"
   ]
  },
  {
   "cell_type": "code",
   "execution_count": 1,
   "id": "59ea75ce",
   "metadata": {
    "scrolled": true
   },
   "outputs": [
    {
     "data": {
      "text/plain": [
       "(1, 3, 5, 7)"
      ]
     },
     "execution_count": 1,
     "metadata": {},
     "output_type": "execute_result"
    }
   ],
   "source": [
    "a=(1,2,3,4,5,6,7,8,9)\n",
    "idx_start=0\n",
    "idx_end=8\n",
    "idx_steps=2\n",
    "a[idx_start:idx_end:idx_steps]"
   ]
  },
  {
   "cell_type": "code",
   "execution_count": 17,
   "id": "d7373c06",
   "metadata": {},
   "outputs": [
    {
     "name": "stdout",
     "output_type": "stream",
     "text": [
      "python\n",
      "r\n",
      "sql\n"
     ]
    }
   ],
   "source": [
    "course_list = [\"python\", \"r\", \"sql\"]\n",
    "for course in course_list:\n",
    "    print(course)"
   ]
  },
  {
   "cell_type": "code",
   "execution_count": 19,
   "id": "7724c339",
   "metadata": {},
   "outputs": [
    {
     "name": "stdout",
     "output_type": "stream",
     "text": [
      "j\n",
      "u\n",
      "m\n",
      "p\n"
     ]
    }
   ],
   "source": [
    "words = 'jump'\n",
    "for letter in words:\n",
    "    print(letter)\n"
   ]
  },
  {
   "cell_type": "code",
   "execution_count": 35,
   "id": "3f738a54",
   "metadata": {},
   "outputs": [
    {
     "name": "stdout",
     "output_type": "stream",
     "text": [
      "  ID              course technology\n",
      "0  P        Data Science     Python\n",
      "1  R  Data Visualization          R\n",
      "2  S           Databases        SQL\n",
      "  ID              course technology  name_length\n",
      "0  P        Data Science     Python           12\n",
      "1  R  Data Visualization          R           18\n",
      "2  S           Databases        SQL            9\n"
     ]
    }
   ],
   "source": [
    "#practice making a dictionary\n",
    "data = {\"ID\":[\"P\",\"R\",\"S\"],\"course\":[\"Data Science\", \"Data Visualization\", \"Databases\"], \"technology\":[\"Python\",\"R\",\"SQL\"]}\n",
    "#trun dictionary into a DataFrame\n",
    "datacamp = pd.DataFrame(data)\n",
    "print(datacamp)\n",
    "#add additional columns with a function\n",
    "datacamp[\"name_length\"]= datacamp[\"course\"].apply(len)\n",
    "print(datacamp)"
   ]
  },
  {
   "cell_type": "code",
   "execution_count": 37,
   "id": "45f9ac8b",
   "metadata": {},
   "outputs": [
    {
     "name": "stdout",
     "output_type": "stream",
     "text": [
      "2\n",
      "3\n",
      "4\n",
      "5\n",
      "6\n",
      "7\n",
      "8\n"
     ]
    }
   ],
   "source": [
    "i=2\n",
    "while i<=8:\n",
    "    print(i)\n",
    "    i += 1"
   ]
  },
  {
   "cell_type": "code",
   "execution_count": 38,
   "id": "9a40bca9",
   "metadata": {},
   "outputs": [
    {
     "name": "stdout",
     "output_type": "stream",
     "text": [
      "{'earth': 1, 'jupiter': 11.21}\n"
     ]
    }
   ],
   "source": [
    "diameter = { \n",
    "\"earth\":\n",
    " 1, \n",
    "    'jupiter': 11.21\n",
    "}\n",
    "print(diameter)"
   ]
  },
  {
   "cell_type": "code",
   "execution_count": 63,
   "id": "adaaae33",
   "metadata": {},
   "outputs": [
    {
     "name": "stdout",
     "output_type": "stream",
     "text": [
      "     X   Y  Cost  Distance\n",
      "id                        \n",
      "a   10  20    20        23\n",
      "b   15  15    18        21\n",
      "c   12  50    20        51\n",
      "\n",
      "     X   Y  Cost  Distance\n",
      "id                        \n",
      "a   10  20    20        23\n",
      "b   15  15    18        21\n"
     ]
    }
   ],
   "source": [
    "data ={\"id\":[\"a\",\"b\",\"c\"],\"X\":[10,15,12],\"Y\":[20,15,50],\"Cost\":[20,18,20],\"Distance\":[23,21,51]}\n",
    "stores = pd.DataFrame(data)\n",
    "#set the \"id\" as the index for the stores dataframe\n",
    "stores=stores.set_index(\"id\")\n",
    "print(stores)\n",
    "print()\n",
    "print(stores.loc[[\"a\",\"b\"]])"
   ]
  },
  {
   "cell_type": "code",
   "execution_count": 58,
   "id": "7f5dfa60",
   "metadata": {},
   "outputs": [
    {
     "name": "stdout",
     "output_type": "stream",
     "text": [
      "200\n"
     ]
    }
   ],
   "source": [
    "fruits = { \n",
    "    'nuts': 230, \n",
    "    'lemons': 200,\n",
    "    'olives': 250\n",
    "}\n",
    "print(fruits['lemons'])"
   ]
  }
 ],
 "metadata": {
  "celltoolbar": "Raw Cell Format",
  "kernelspec": {
   "display_name": "Python 3 (ipykernel)",
   "language": "python",
   "name": "python3"
  },
  "language_info": {
   "codemirror_mode": {
    "name": "ipython",
    "version": 3
   },
   "file_extension": ".py",
   "mimetype": "text/x-python",
   "name": "python",
   "nbconvert_exporter": "python",
   "pygments_lexer": "ipython3",
   "version": "3.9.7"
  }
 },
 "nbformat": 4,
 "nbformat_minor": 5
}
