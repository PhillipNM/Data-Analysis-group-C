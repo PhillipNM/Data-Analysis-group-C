{
 "cells": [
  {
   "cell_type": "code",
   "execution_count": 11,
   "id": "ee9868a5",
   "metadata": {},
   "outputs": [
    {
     "name": "stdout",
     "output_type": "stream",
     "text": [
      "         country    capital    area  population\n",
      "BR        Brazil   Brasilia   8.516      200.40\n",
      "RU        Russia     Moscow  17.100      143.50\n",
      "IN         India  New Delhi   3.286     1252.00\n",
      "CH         China    Beijing   9.597     1357.00\n",
      "SA  South Africa   Pretoria   1.221       52.98\n"
     ]
    }
   ],
   "source": [
    "# Import the course packages\n",
    "import numpy as np\n",
    "import pandas as pd\n",
    "import matplotlib.pyplot as plt\n",
    "\n",
    "# Import three datasets\n",
    "gapminder = pd.read_csv(\"/Users/Phillip/OneDrive/Python Data Training/gapminder.csv\", index_col = 0)\n",
    "brics = pd.read_csv(\"/Users/Phillip/OneDrive/Python Data Training/brics.csv\", index_col = 0)\n",
    "cars = pd.read_csv (\"/Users/Phillip/OneDrive/Python Data Training/cars.csv\", index_col = 0)\n",
    "\n",
    "# Print the first DataFrame\n",
    "print(brics)"
   ]
  },
  {
   "cell_type": "code",
   "execution_count": 2,
   "id": "92da0222",
   "metadata": {},
   "outputs": [
    {
     "name": "stdout",
     "output_type": "stream",
     "text": [
      "the population of Brazil is 200.4 million!\n",
      "the population of Russia is 143.5 million!\n",
      "the population of India is 1252.0 million!\n",
      "the population of China is 1357.0 million!\n",
      "the population of South Africa is 52.98 million!\n"
     ]
    }
   ],
   "source": [
    "# 1. Create a loop that prints each country and population in brics\n",
    "for lab, row in brics.iterrows():\n",
    "    print(\n",
    "        \"the population of \"\n",
    "        + str(row[\"country\"])\n",
    "        + \" is \"\n",
    "        +str(row[\"population\"])\n",
    "        +\" million!\"\n",
    "    )\n",
    "\n"
   ]
  },
  {
   "cell_type": "code",
   "execution_count": 8,
   "id": "6e792279",
   "metadata": {},
   "outputs": [],
   "source": [
    "# Print the last item from year and pop\n"
   ]
  }
 ],
 "metadata": {
  "kernelspec": {
   "display_name": "Python 3 (ipykernel)",
   "language": "python",
   "name": "python3"
  },
  "language_info": {
   "codemirror_mode": {
    "name": "ipython",
    "version": 3
   },
   "file_extension": ".py",
   "mimetype": "text/x-python",
   "name": "python",
   "nbconvert_exporter": "python",
   "pygments_lexer": "ipython3",
   "version": "3.9.7"
  }
 },
 "nbformat": 4,
 "nbformat_minor": 5
}
