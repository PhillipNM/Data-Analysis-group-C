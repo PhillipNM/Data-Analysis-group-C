{
 "cells": [
  {
   "cell_type": "code",
   "execution_count": 10,
   "id": "23608cde",
   "metadata": {},
   "outputs": [
    {
     "name": "stdout",
     "output_type": "stream",
     "text": [
      "Joe said, \"Help, help\" and then he fell\n"
     ]
    }
   ],
   "source": [
    "print(\"Joe said, \\\"Help, help\\\" and then he fell\")"
   ]
  },
  {
   "cell_type": "code",
   "execution_count": 1,
   "id": "1d434f73",
   "metadata": {},
   "outputs": [
    {
     "data": {
      "text/plain": [
       "tuple"
      ]
     },
     "execution_count": 1,
     "metadata": {},
     "output_type": "execute_result"
    }
   ],
   "source": [
    "a=1,2,3,4,5\n",
    "type(a)"
   ]
  },
  {
   "cell_type": "code",
   "execution_count": 2,
   "id": "3d89abf4",
   "metadata": {},
   "outputs": [
    {
     "data": {
      "text/plain": [
       "4"
      ]
     },
     "execution_count": 2,
     "metadata": {},
     "output_type": "execute_result"
    }
   ],
   "source": [
    "a=(1,2,3,4,5)\n",
    "type(a)\n",
    "a[0]\n",
    "a[3]"
   ]
  },
  {
   "cell_type": "code",
   "execution_count": 4,
   "id": "4d532677",
   "metadata": {},
   "outputs": [
    {
     "data": {
      "text/plain": [
       "(2, 3, 4)"
      ]
     },
     "execution_count": 4,
     "metadata": {},
     "output_type": "execute_result"
    }
   ],
   "source": [
    "a[1:4]"
   ]
  },
  {
   "cell_type": "code",
   "execution_count": 5,
   "id": "93e421df",
   "metadata": {},
   "outputs": [
    {
     "data": {
      "text/plain": [
       "(1, 3, 5, 7, 9)"
      ]
     },
     "execution_count": 5,
     "metadata": {},
     "output_type": "execute_result"
    }
   ],
   "source": [
    "a=(1,2,3,4,5,6,7,8,9)\n",
    "a[:9:2]"
   ]
  },
  {
   "cell_type": "code",
   "execution_count": 6,
   "id": "04732b90",
   "metadata": {},
   "outputs": [
    {
     "data": {
      "text/plain": [
       "(1, 3, 5, 7, 9)"
      ]
     },
     "execution_count": 6,
     "metadata": {},
     "output_type": "execute_result"
    }
   ],
   "source": [
    "#more advanced by adding in variable names\n",
    "\n",
    "a=(1,2,3,4,5,6,7,8,9)\n",
    "idx_start=0\n",
    "idx_end=9\n",
    "idx_steps=2\n",
    "a[idx_start:idx_end:idx_steps]"
   ]
  },
  {
   "cell_type": "code",
   "execution_count": 10,
   "id": "a1ec8ed3",
   "metadata": {},
   "outputs": [
    {
     "data": {
      "text/plain": [
       "(1, 2, (4, 5, (9, 18, 7), 7), 4, 5, 6, 7, 8, 9)"
      ]
     },
     "execution_count": 10,
     "metadata": {},
     "output_type": "execute_result"
    }
   ],
   "source": [
    "#using a multiple dementional tuple how do we get 18\n",
    "a=(1,2,(4,5,(9,18,7),7),4,5,6,7,8,9)\n",
    "a"
   ]
  },
  {
   "cell_type": "code",
   "execution_count": 11,
   "id": "21c0426f",
   "metadata": {},
   "outputs": [
    {
     "data": {
      "text/plain": [
       "(4, 5, (9, 18, 7), 7)"
      ]
     },
     "execution_count": 11,
     "metadata": {},
     "output_type": "execute_result"
    }
   ],
   "source": [
    "a[2]"
   ]
  },
  {
   "cell_type": "code",
   "execution_count": 12,
   "id": "a50cd2d9",
   "metadata": {},
   "outputs": [
    {
     "data": {
      "text/plain": [
       "18"
      ]
     },
     "execution_count": 12,
     "metadata": {},
     "output_type": "execute_result"
    }
   ],
   "source": [
    "a[2][2][1] #each set of brackets represents an index of that dimension"
   ]
  },
  {
   "cell_type": "code",
   "execution_count": 16,
   "id": "227347a5",
   "metadata": {},
   "outputs": [
    {
     "data": {
      "text/plain": [
       "(1, 2, (4, 5, 7), 4, 5, (9, 18, (2.1, 1.27)), 7, 8, 9)"
      ]
     },
     "execution_count": 16,
     "metadata": {},
     "output_type": "execute_result"
    }
   ],
   "source": [
    "#using a multiple dimentional tuple how do we get 18\n",
    "a=(1,2,(4,5,7),4,5,(9,18,(2.1,1.27)),7,8,9)\n",
    "a"
   ]
  },
  {
   "cell_type": "code",
   "execution_count": 17,
   "id": "82066ed7",
   "metadata": {},
   "outputs": [
    {
     "data": {
      "text/plain": [
       "18"
      ]
     },
     "execution_count": 17,
     "metadata": {},
     "output_type": "execute_result"
    }
   ],
   "source": [
    "a[5][1]"
   ]
  },
  {
   "cell_type": "code",
   "execution_count": 18,
   "id": "4377688c",
   "metadata": {},
   "outputs": [
    {
     "data": {
      "text/plain": [
       "(1, 2, (4, 5, 7), 4, 5, (9, 18, (2.1, 1.27)), 7, 8, 9)"
      ]
     },
     "execution_count": 18,
     "metadata": {},
     "output_type": "execute_result"
    }
   ],
   "source": [
    "#using a multiple dimentional tuple how do we get 1.27\n",
    "a=(1,2,(4,5,7),4,5,(9,18,(2.1,1.27)),7,8,9)\n",
    "a"
   ]
  },
  {
   "cell_type": "code",
   "execution_count": 19,
   "id": "f6d9f1a9",
   "metadata": {},
   "outputs": [
    {
     "data": {
      "text/plain": [
       "1.27"
      ]
     },
     "execution_count": 19,
     "metadata": {},
     "output_type": "execute_result"
    }
   ],
   "source": [
    "a[5][2][1]"
   ]
  },
  {
   "cell_type": "code",
   "execution_count": 20,
   "id": "7063b528",
   "metadata": {},
   "outputs": [
    {
     "data": {
      "text/plain": [
       "[1, 2, [4, 5, 7], 4, 5, [9, 18, [2.1, 1.27]], 7, 8, 9]"
      ]
     },
     "execution_count": 20,
     "metadata": {},
     "output_type": "execute_result"
    }
   ],
   "source": [
    "# a=() is tuple a\n",
    "# a() is function a\n",
    "# a[] is indexing of a\n",
    "# a=[] is a list a\n",
    "a=[1,2,[4,5,7],4,5,[9,18,[2.1,1.27]],7,8,9]\n",
    "a"
   ]
  },
  {
   "cell_type": "code",
   "execution_count": 22,
   "id": "1c92c891",
   "metadata": {
    "scrolled": true
   },
   "outputs": [
    {
     "data": {
      "text/plain": [
       "1.27"
      ]
     },
     "execution_count": 22,
     "metadata": {},
     "output_type": "execute_result"
    }
   ],
   "source": [
    "#using a multiple dimentional list how do we get 1.27\n",
    "a[5][2][1]"
   ]
  },
  {
   "cell_type": "code",
   "execution_count": 23,
   "id": "ddfe96cb",
   "metadata": {},
   "outputs": [],
   "source": [
    "a=[1,\"xyz\",2.1,True]\n",
    "b=(1,\"xyz\",2.1,True)"
   ]
  },
  {
   "cell_type": "code",
   "execution_count": 24,
   "id": "df5c745e",
   "metadata": {},
   "outputs": [
    {
     "data": {
      "text/plain": [
       "2.1"
      ]
     },
     "execution_count": 24,
     "metadata": {},
     "output_type": "execute_result"
    }
   ],
   "source": [
    "#print 2.1\n",
    "a[2]"
   ]
  },
  {
   "cell_type": "code",
   "execution_count": 25,
   "id": "2cb30cc9",
   "metadata": {},
   "outputs": [
    {
     "data": {
      "text/plain": [
       "[1, 'xyz', 2.2, True]"
      ]
     },
     "execution_count": 25,
     "metadata": {},
     "output_type": "execute_result"
    }
   ],
   "source": [
    "#to change the list value simply make index 2 the new value\n",
    "a[2]=2.2\n",
    "a"
   ]
  },
  {
   "cell_type": "code",
   "execution_count": 26,
   "id": "68745990",
   "metadata": {
    "scrolled": true
   },
   "outputs": [
    {
     "ename": "TypeError",
     "evalue": "'tuple' object does not support item assignment",
     "output_type": "error",
     "traceback": [
      "\u001b[1;31m---------------------------------------------------------------------------\u001b[0m",
      "\u001b[1;31mTypeError\u001b[0m                                 Traceback (most recent call last)",
      "\u001b[1;32m~\\AppData\\Local\\Temp/ipykernel_21456/3146677558.py\u001b[0m in \u001b[0;36m<module>\u001b[1;34m\u001b[0m\n\u001b[0;32m      1\u001b[0m \u001b[1;31m#to change the value of a tuple this will not work\u001b[0m\u001b[1;33m\u001b[0m\u001b[1;33m\u001b[0m\u001b[0m\n\u001b[1;32m----> 2\u001b[1;33m \u001b[0mb\u001b[0m\u001b[1;33m[\u001b[0m\u001b[1;36m2\u001b[0m\u001b[1;33m]\u001b[0m\u001b[1;33m=\u001b[0m\u001b[1;36m2.2\u001b[0m\u001b[1;33m\u001b[0m\u001b[1;33m\u001b[0m\u001b[0m\n\u001b[0m\u001b[0;32m      3\u001b[0m \u001b[0mb\u001b[0m\u001b[1;33m\u001b[0m\u001b[1;33m\u001b[0m\u001b[0m\n",
      "\u001b[1;31mTypeError\u001b[0m: 'tuple' object does not support item assignment"
     ]
    }
   ],
   "source": [
    "#to change the value of a tuple this will not work\n",
    "b[2]=2.2\n",
    "b\n",
    "#we would have to drop in an entirely new tuple\n",
    "#why use tuples, e-mails may not change and it would be downloaded as tuple, generally we use lists\n",
    "#for speed we will come across numpy array which would operate faster (4 times faster)"
   ]
  },
  {
   "cell_type": "code",
   "execution_count": 29,
   "id": "76d72f41",
   "metadata": {},
   "outputs": [
    {
     "name": "stdout",
     "output_type": "stream",
     "text": [
      "<class 'list'>\n",
      "<class 'int'>\n",
      "<class 'str'>\n",
      "<class 'float'>\n",
      "<class 'bool'>\n"
     ]
    }
   ],
   "source": [
    "a=[1,\"xyz\",2.1,True]\n",
    "\n",
    "print(type(a))\n",
    "print(type(a[0]))\n",
    "print(type(a[1]))\n",
    "print(type(a[2]))\n",
    "print(type(a[3]))"
   ]
  },
  {
   "cell_type": "code",
   "execution_count": 31,
   "id": "1ac928d3",
   "metadata": {},
   "outputs": [],
   "source": [
    "student={\"id\":1,\"name\":\"xyz\",\"grade\":2.1,\"active\":True}"
   ]
  },
  {
   "cell_type": "code",
   "execution_count": 33,
   "id": "b1b63c1b",
   "metadata": {},
   "outputs": [
    {
     "data": {
      "text/plain": [
       "2.1"
      ]
     },
     "execution_count": 33,
     "metadata": {},
     "output_type": "execute_result"
    }
   ],
   "source": [
    "student[\"grade\"]"
   ]
  },
  {
   "cell_type": "code",
   "execution_count": 34,
   "id": "e84380fa",
   "metadata": {},
   "outputs": [
    {
     "data": {
      "text/plain": [
       "{'id': 1, 'name': 'xyz', 'grade': 2.2, 'active': True}"
      ]
     },
     "execution_count": 34,
     "metadata": {},
     "output_type": "execute_result"
    }
   ],
   "source": [
    "student[\"grade\"]=2.2\n",
    "student"
   ]
  },
  {
   "cell_type": "code",
   "execution_count": 35,
   "id": "f2325c9d",
   "metadata": {},
   "outputs": [
    {
     "data": {
      "text/plain": [
       "'Hello World'"
      ]
     },
     "execution_count": 35,
     "metadata": {},
     "output_type": "execute_result"
    }
   ],
   "source": [
    "a=\"hElLo wOrlD\"\n",
    "a.title()"
   ]
  },
  {
   "cell_type": "code",
   "execution_count": 37,
   "id": "e5fb77fe",
   "metadata": {},
   "outputs": [
    {
     "data": {
      "text/plain": [
       "{1: 'a', 2: 'b'}"
      ]
     },
     "execution_count": 37,
     "metadata": {},
     "output_type": "execute_result"
    }
   ],
   "source": [
    "d = {1:'a',2:'b'}\n",
    "d[3]=d[1]\n",
    "d[1]=d.pop(3)\n",
    "d\n"
   ]
  }
 ],
 "metadata": {
  "kernelspec": {
   "display_name": "Python 3 (ipykernel)",
   "language": "python",
   "name": "python3"
  },
  "language_info": {
   "codemirror_mode": {
    "name": "ipython",
    "version": 3
   },
   "file_extension": ".py",
   "mimetype": "text/x-python",
   "name": "python",
   "nbconvert_exporter": "python",
   "pygments_lexer": "ipython3",
   "version": "3.9.7"
  }
 },
 "nbformat": 4,
 "nbformat_minor": 5
}
