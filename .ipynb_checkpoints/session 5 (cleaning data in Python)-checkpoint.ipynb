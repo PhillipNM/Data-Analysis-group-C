{
 "cells": [
  {
   "cell_type": "code",
   "execution_count": 5,
   "id": "101544dd",
   "metadata": {},
   "outputs": [],
   "source": [
    "a='''sdkjdhasjhdf abc@gmail.com sdfjhuikshfs\n",
    "a@yahoo.co.im adhjuasgukdfhasjkhfksf \n",
    "sdasd aaaaaa1234@c.com sdfsoid abc.com \n",
    "sdfsdf  abc@xyxc.  '''"
   ]
  },
  {
   "cell_type": "code",
   "execution_count": 7,
   "id": "db3b439e",
   "metadata": {},
   "outputs": [],
   "source": [
    "import re"
   ]
  },
  {
   "cell_type": "code",
   "execution_count": 10,
   "id": "0ad8c182",
   "metadata": {},
   "outputs": [],
   "source": [
    "# 1. function re.findall(\"pattern\",\"sentence\") two parameters\n",
    "#2. function split(r\"character\",\"sentence\") two parameters r= raw strings ()\n",
    "    #split(r\"!\",\"Nice place! We should come back!\") there would be a split on the first and last \"!\"\n",
    "#3. function substitute re.sub(\"current text\",\"substitute text\", \"string to perform replacement\")\n",
    "    #re.sub(\"red\",\"blue\", \"I have a red car\") replaces red with blue in the sentence"
   ]
  },
  {
   "cell_type": "code",
   "execution_count": 8,
   "id": "806d0e64",
   "metadata": {
    "scrolled": true
   },
   "outputs": [
    {
     "data": {
      "text/plain": [
       "['sdkjdhasjhdf',\n",
       " 'abc@gmail.com',\n",
       " 'sdfjhuikshfs',\n",
       " 'a@yahoo.co.im',\n",
       " 'adhjuasgukdfhasjkhfksf',\n",
       " 'sdasd',\n",
       " 'aaaaaa1234@c.com',\n",
       " 'sdfsoid',\n",
       " 'abc.com',\n",
       " 'sdfsdf',\n",
       " 'abc@xyxc.']"
      ]
     },
     "execution_count": 8,
     "metadata": {},
     "output_type": "execute_result"
    }
   ],
   "source": [
    "a.split()"
   ]
  },
  {
   "cell_type": "code",
   "execution_count": 11,
   "id": "5746aa5f",
   "metadata": {},
   "outputs": [
    {
     "data": {
      "text/plain": [
       "['abc@gmail.com', 'a@yahoo.co.im', 'aaaaaa1234@c.com']"
      ]
     },
     "execution_count": 11,
     "metadata": {},
     "output_type": "execute_result"
    }
   ],
   "source": [
    "re.findall(\"\\w+\\@\\w+\\.\\w+\\.?\\w+\",a)"
   ]
  }
 ],
 "metadata": {
  "kernelspec": {
   "display_name": "Python 3 (ipykernel)",
   "language": "python",
   "name": "python3"
  },
  "language_info": {
   "codemirror_mode": {
    "name": "ipython",
    "version": 3
   },
   "file_extension": ".py",
   "mimetype": "text/x-python",
   "name": "python",
   "nbconvert_exporter": "python",
   "pygments_lexer": "ipython3",
   "version": "3.9.7"
  }
 },
 "nbformat": 4,
 "nbformat_minor": 5
}
