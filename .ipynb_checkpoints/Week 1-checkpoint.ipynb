{
 "cells": [
  {
   "cell_type": "code",
   "execution_count": 40,
   "id": "a6f69385",
   "metadata": {},
   "outputs": [
    {
     "name": "stdout",
     "output_type": "stream",
     "text": [
      "add: 7\n",
      "sunbract: -3\n",
      "multiply: 10\n",
      "divide: 0.4\n",
      "exponent: 32\n",
      "//?: 0\n",
      "%?: 2\n"
     ]
    }
   ],
   "source": [
    "a=2; b=a+3\n",
    "print(\"add: \"+str(a+b))\n",
    "print(\"sunbract: \"+str(a-b))\n",
    "print(\"multiply: \"+str(a*b))\n",
    "print(\"divide: \"+str(a/b))\n",
    "print(\"exponent: \"+str(a**b))\n",
    "print(\"//?: \"+str(a//b)) #looked up on google this is a floor divisom\n",
    "print(\"%?: \"+str(a%b))  #looked up on google this is a modulus\n"
   ]
  },
  {
   "cell_type": "code",
   "execution_count": null,
   "id": "80f3f63b",
   "metadata": {},
   "outputs": [],
   "source": []
  }
 ],
 "metadata": {
  "kernelspec": {
   "display_name": "Python 3 (ipykernel)",
   "language": "python",
   "name": "python3"
  },
  "language_info": {
   "codemirror_mode": {
    "name": "ipython",
    "version": 3
   },
   "file_extension": ".py",
   "mimetype": "text/x-python",
   "name": "python",
   "nbconvert_exporter": "python",
   "pygments_lexer": "ipython3",
   "version": "3.9.7"
  }
 },
 "nbformat": 4,
 "nbformat_minor": 5
}
