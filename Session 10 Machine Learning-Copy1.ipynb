{
 "cells": [
  {
   "cell_type": "code",
   "execution_count": 1,
   "id": "6eb551ba",
   "metadata": {},
   "outputs": [],
   "source": [
    "# Import the course packages\n",
    "import numpy as np\n",
    "import pandas as pd\n",
    "\n",
    "# Import skleaarn modules\n",
    "from sklearn.neighbors import KNeighborsClassifier # KNeighborsClassifier\n",
    "\n",
    "from sklearn.model_selection import train_test_split # Import the module train_test_split\n",
    "from sklearn.model_selection import cross_val_score, KFold # import cross-validation and KFold\n",
    "from sklearn.model_selection import GridSearchCV # import GridSearchCV\n",
    "from sklearn.model_selection import RandomizedSearchCV # import RandomizedSearch\n",
    "\n",
    "from sklearn.linear_model import LinearRegression # import linear regession model from sklearn\n",
    "from sklearn.linear_model import Ridge # import ridge from sklearn\n",
    "from sklearn.linear_model import Lasso # import lasso from sklearn\n",
    "from sklearn.linear_model import LogisticRegression # import logisticregression module\n",
    "\n",
    "from sklearn.metrics import classification_report #import the metrics module for classification reporting\n",
    "from sklearn.metrics import confusion_matrix #import the metrics module for confusion matrix\n",
    "from sklearn.metrics import mean_squared_error # import RMSE (Root Mean squared error) module \n",
    "from sklearn.metrics import roc_curve # import the ROC curve\n",
    "from sklearn.metrics import roc_auc_score # import the ROC AUC (area under the ROC curve)\n",
    "\n",
    "from sklearn.impute import SimpleImputer # import Imputation feature\n",
    "from sklearn.pipeline import Pipeline # import the Pipeline feature to impute values\n",
    "\n",
    "# import matplotlib pyplot and seaborn\n",
    "import matplotlib.pyplot as plt\n",
    "import seaborn as sns"
   ]
  },
  {
   "cell_type": "code",
   "execution_count": 2,
   "id": "020740bd",
   "metadata": {},
   "outputs": [],
   "source": [
    "# create dataframe for diabetes data\n",
    "diabetes_df = pd.read_csv(\"diabetes_clean.csv\")\n",
    "\n",
    "# Create feature and target arrays\n",
    "X = diabetes_df.drop(\"glucose\", axis=1).values\n",
    "y = diabetes_df[\"glucose\"].values\n",
    "\n",
    "names = diabetes_df.drop(\"glucose\", axis=1).columns"
   ]
  },
  {
   "cell_type": "code",
   "execution_count": 3,
   "id": "840870c3",
   "metadata": {},
   "outputs": [
    {
     "data": {
      "text/plain": [
       "KNeighborsClassifier(n_neighbors=7)"
      ]
     },
     "execution_count": 3,
     "metadata": {},
     "output_type": "execute_result"
    }
   ],
   "source": [
    "# instantiate the KNN for the KNeighborsClassier\n",
    "knn = KNeighborsClassifier(n_neighbors=7)\n",
    "\n",
    "# instantiate the logistic regression \n",
    "logreg = LogisticRegression()\n",
    "\n",
    "# instantiate the linear regression \n",
    "reg = LinearRegression()\n",
    "\n",
    "X_train, X_test, y_train, y_test = train_test_split(X,y, test_size=0.4, random_state=42)\n",
    "\n",
    "# fit the knn\n",
    "knn.fit(X_train,y_train)\n"
   ]
  },
  {
   "cell_type": "code",
   "execution_count": 4,
   "id": "8b2fc45a",
   "metadata": {},
   "outputs": [
    {
     "name": "stdout",
     "output_type": "stream",
     "text": [
      "<class 'numpy.ndarray'> <class 'numpy.ndarray'>\n",
      "(768,) (768,)\n",
      "(768, 1)\n"
     ]
    }
   ],
   "source": [
    "# Create feature and target arrays\n",
    "\n",
    "X = diabetes_df.drop(\"glucose\", axis=1).values\n",
    "y = diabetes_df[\"glucose\"].values\n",
    "\n",
    "print(type(X), type(y)) #check the X, y are both numpy arrays\n",
    "\n",
    "#making a prediction of blood glucose based on BMI\n",
    "#seperate out the bmi data\n",
    "X_bmi = X[:,4] #5th column of X as the \"glucose\" column was dropped, this is the feature array of values\n",
    "print(y.shape, X_bmi.shape)\n",
    "\n",
    "#convert shape of X_bmi to 2D\n",
    "X_bmi = X_bmi.reshape(-1,1)\n",
    "print(X_bmi.shape)"
   ]
  },
  {
   "cell_type": "code",
   "execution_count": 5,
   "id": "f691f3c0",
   "metadata": {},
   "outputs": [],
   "source": [
    "# cross validations"
   ]
  },
  {
   "cell_type": "code",
   "execution_count": 6,
   "id": "64f5e099",
   "metadata": {},
   "outputs": [
    {
     "name": "stdout",
     "output_type": "stream",
     "text": [
      "[0.3160255433354524, 0.3159568159469741, 0.31409088600230306, 0.2765900825146169, 0.20647331131041002]\n"
     ]
    }
   ],
   "source": [
    "\n",
    "scores =[]\n",
    "for alpha in [0.1,1.0,10.0,100.0,1000.0]:\n",
    "    ridge = Ridge(alpha=alpha)\n",
    "    ridge.fit(X_train, y_train)\n",
    "    y_pred = ridge.predict(X_test)\n",
    "    scores.append(ridge.score(X_test,y_test))\n",
    "    \n",
    "print(scores)\n",
    "\n"
   ]
  },
  {
   "cell_type": "code",
   "execution_count": 7,
   "id": "52ba006c",
   "metadata": {
    "scrolled": true
   },
   "outputs": [
    {
     "name": "stderr",
     "output_type": "stream",
     "text": [
      "C:\\Users\\Phillip\\anaconda3\\lib\\site-packages\\sklearn\\linear_model\\_logistic.py:763: ConvergenceWarning: lbfgs failed to converge (status=1):\n",
      "STOP: TOTAL NO. of ITERATIONS REACHED LIMIT.\n",
      "\n",
      "Increase the number of iterations (max_iter) or scale the data as shown in:\n",
      "    https://scikit-learn.org/stable/modules/preprocessing.html\n",
      "Please also refer to the documentation for alternative solver options:\n",
      "    https://scikit-learn.org/stable/modules/linear_model.html#logistic-regression\n",
      "  n_iter_i = _check_optimize_result(\n"
     ]
    },
    {
     "name": "stdout",
     "output_type": "stream",
     "text": [
      "2.2465242114775204e-12\n"
     ]
    },
    {
     "ename": "ValueError",
     "evalue": "multiclass format is not supported",
     "output_type": "error",
     "traceback": [
      "\u001b[1;31m---------------------------------------------------------------------------\u001b[0m",
      "\u001b[1;31mValueError\u001b[0m                                Traceback (most recent call last)",
      "\u001b[1;32m~\\AppData\\Local\\Temp/ipykernel_26040/2085078997.py\u001b[0m in \u001b[0;36m<module>\u001b[1;34m\u001b[0m\n\u001b[0;32m      9\u001b[0m \u001b[1;33m\u001b[0m\u001b[0m\n\u001b[0;32m     10\u001b[0m \u001b[1;32mfrom\u001b[0m \u001b[0msklearn\u001b[0m\u001b[1;33m.\u001b[0m\u001b[0mmetrics\u001b[0m \u001b[1;32mimport\u001b[0m \u001b[0mroc_curve\u001b[0m \u001b[1;31m# import the roc curve module\u001b[0m\u001b[1;33m\u001b[0m\u001b[1;33m\u001b[0m\u001b[0m\n\u001b[1;32m---> 11\u001b[1;33m \u001b[0mfpr\u001b[0m\u001b[1;33m,\u001b[0m \u001b[0mtpr\u001b[0m\u001b[1;33m,\u001b[0m \u001b[0mthresholds\u001b[0m \u001b[1;33m=\u001b[0m \u001b[0mroc_curve\u001b[0m\u001b[1;33m(\u001b[0m\u001b[0my_test\u001b[0m\u001b[1;33m,\u001b[0m \u001b[0my_pred_probs\u001b[0m\u001b[1;33m)\u001b[0m\u001b[1;33m\u001b[0m\u001b[1;33m\u001b[0m\u001b[0m\n\u001b[0m",
      "\u001b[1;32m~\\anaconda3\\lib\\site-packages\\sklearn\\utils\\validation.py\u001b[0m in \u001b[0;36minner_f\u001b[1;34m(*args, **kwargs)\u001b[0m\n\u001b[0;32m     61\u001b[0m             \u001b[0mextra_args\u001b[0m \u001b[1;33m=\u001b[0m \u001b[0mlen\u001b[0m\u001b[1;33m(\u001b[0m\u001b[0margs\u001b[0m\u001b[1;33m)\u001b[0m \u001b[1;33m-\u001b[0m \u001b[0mlen\u001b[0m\u001b[1;33m(\u001b[0m\u001b[0mall_args\u001b[0m\u001b[1;33m)\u001b[0m\u001b[1;33m\u001b[0m\u001b[1;33m\u001b[0m\u001b[0m\n\u001b[0;32m     62\u001b[0m             \u001b[1;32mif\u001b[0m \u001b[0mextra_args\u001b[0m \u001b[1;33m<=\u001b[0m \u001b[1;36m0\u001b[0m\u001b[1;33m:\u001b[0m\u001b[1;33m\u001b[0m\u001b[1;33m\u001b[0m\u001b[0m\n\u001b[1;32m---> 63\u001b[1;33m                 \u001b[1;32mreturn\u001b[0m \u001b[0mf\u001b[0m\u001b[1;33m(\u001b[0m\u001b[1;33m*\u001b[0m\u001b[0margs\u001b[0m\u001b[1;33m,\u001b[0m \u001b[1;33m**\u001b[0m\u001b[0mkwargs\u001b[0m\u001b[1;33m)\u001b[0m\u001b[1;33m\u001b[0m\u001b[1;33m\u001b[0m\u001b[0m\n\u001b[0m\u001b[0;32m     64\u001b[0m \u001b[1;33m\u001b[0m\u001b[0m\n\u001b[0;32m     65\u001b[0m             \u001b[1;31m# extra_args > 0\u001b[0m\u001b[1;33m\u001b[0m\u001b[1;33m\u001b[0m\u001b[0m\n",
      "\u001b[1;32m~\\anaconda3\\lib\\site-packages\\sklearn\\metrics\\_ranking.py\u001b[0m in \u001b[0;36mroc_curve\u001b[1;34m(y_true, y_score, pos_label, sample_weight, drop_intermediate)\u001b[0m\n\u001b[0;32m    911\u001b[0m \u001b[1;33m\u001b[0m\u001b[0m\n\u001b[0;32m    912\u001b[0m     \"\"\"\n\u001b[1;32m--> 913\u001b[1;33m     fps, tps, thresholds = _binary_clf_curve(\n\u001b[0m\u001b[0;32m    914\u001b[0m         y_true, y_score, pos_label=pos_label, sample_weight=sample_weight)\n\u001b[0;32m    915\u001b[0m \u001b[1;33m\u001b[0m\u001b[0m\n",
      "\u001b[1;32m~\\anaconda3\\lib\\site-packages\\sklearn\\metrics\\_ranking.py\u001b[0m in \u001b[0;36m_binary_clf_curve\u001b[1;34m(y_true, y_score, pos_label, sample_weight)\u001b[0m\n\u001b[0;32m    689\u001b[0m     if not (y_type == \"binary\" or\n\u001b[0;32m    690\u001b[0m             (y_type == \"multiclass\" and pos_label is not None)):\n\u001b[1;32m--> 691\u001b[1;33m         \u001b[1;32mraise\u001b[0m \u001b[0mValueError\u001b[0m\u001b[1;33m(\u001b[0m\u001b[1;34m\"{0} format is not supported\"\u001b[0m\u001b[1;33m.\u001b[0m\u001b[0mformat\u001b[0m\u001b[1;33m(\u001b[0m\u001b[0my_type\u001b[0m\u001b[1;33m)\u001b[0m\u001b[1;33m)\u001b[0m\u001b[1;33m\u001b[0m\u001b[1;33m\u001b[0m\u001b[0m\n\u001b[0m\u001b[0;32m    692\u001b[0m \u001b[1;33m\u001b[0m\u001b[0m\n\u001b[0;32m    693\u001b[0m     \u001b[0mcheck_consistent_length\u001b[0m\u001b[1;33m(\u001b[0m\u001b[0my_true\u001b[0m\u001b[1;33m,\u001b[0m \u001b[0my_score\u001b[0m\u001b[1;33m,\u001b[0m \u001b[0msample_weight\u001b[0m\u001b[1;33m)\u001b[0m\u001b[1;33m\u001b[0m\u001b[1;33m\u001b[0m\u001b[0m\n",
      "\u001b[1;31mValueError\u001b[0m: multiclass format is not supported"
     ]
    }
   ],
   "source": [
    "# plotting the ROC curve\n",
    "\n",
    "logreg.fit(X_train, y_train)\n",
    "\n",
    "y_pred_probs = logreg.predict_proba(X_test)[:,1]\n",
    "\n",
    "print(y_pred_probs[0])\n",
    "\n",
    "\n",
    "from sklearn.metrics import roc_curve # import the roc curve module\n",
    "fpr, tpr, thresholds = roc_curve(y_test, y_pred_probs)"
   ]
  },
  {
   "cell_type": "code",
   "execution_count": 7,
   "id": "dff9925f",
   "metadata": {},
   "outputs": [
    {
     "name": "stdout",
     "output_type": "stream",
     "text": [
      "   1\n",
      "0  1\n",
      "1  1\n",
      "2  1\n",
      "3  1\n",
      "4  1\n",
      "Index(['Unnamed: 0', 'popularity', 'acousticness', 'danceability',\n",
      "       'duration_ms', 'energy', 'instrumentalness', 'liveness', 'loudness',\n",
      "       'speechiness', 'tempo', 'valence', 'genre'],\n",
      "      dtype='object')\n"
     ]
    }
   ],
   "source": [
    "import pandas as pd\n",
    "music_df=pd.read_csv(\"music_clean.csv\")\n",
    "# print(music_df.head())\n",
    "\n",
    "music_dummies=pd.get_dummies(music_df[\"genre\"], drop_first=True)\n",
    "print(music_dummies.head())\n",
    "\n",
    "music_dummies = pd.concat([music_df, music_dummies], axis = 1)\n",
    "music_dummies = music_dummies.drop(\"genre\", axis=1)\n",
    "\n",
    "music_dummies = pd.get_dummies(music_df, drop_first=True)\n",
    "print(music_dummies.columns)\n"
   ]
  }
 ],
 "metadata": {
  "kernelspec": {
   "display_name": "Python 3 (ipykernel)",
   "language": "python",
   "name": "python3"
  },
  "language_info": {
   "codemirror_mode": {
    "name": "ipython",
    "version": 3
   },
   "file_extension": ".py",
   "mimetype": "text/x-python",
   "name": "python",
   "nbconvert_exporter": "python",
   "pygments_lexer": "ipython3",
   "version": "3.9.7"
  }
 },
 "nbformat": 4,
 "nbformat_minor": 5
}
