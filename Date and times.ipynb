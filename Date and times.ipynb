{
 "cells": [
  {
   "cell_type": "code",
   "execution_count": 1,
   "id": "faadc09f",
   "metadata": {},
   "outputs": [],
   "source": [
    "# Import date\n",
    "from datetime import date\n",
    "import pandas as pd\n",
    "\n",
    "# Create dates\n",
    "two_hurricanes_dates = [date(2016,10,7), date(2017,6,21)]"
   ]
  },
  {
   "cell_type": "code",
   "execution_count": 2,
   "id": "5e10f0a6",
   "metadata": {},
   "outputs": [
    {
     "name": "stdout",
     "output_type": "stream",
     "text": [
      "[datetime.date(2016, 10, 7), datetime.date(2017, 6, 21)]\n"
     ]
    }
   ],
   "source": [
    "print(two_hurricanes_dates)"
   ]
  },
  {
   "cell_type": "code",
   "execution_count": 3,
   "id": "3b1ae4fa",
   "metadata": {},
   "outputs": [
    {
     "name": "stdout",
     "output_type": "stream",
     "text": [
      "4\n"
     ]
    }
   ],
   "source": [
    "print(two_hurricanes_dates[0].weekday())"
   ]
  },
  {
   "cell_type": "code",
   "execution_count": 4,
   "id": "d4f48fcf",
   "metadata": {},
   "outputs": [],
   "source": [
    "# Import datasets\n",
    "florida_hurricane_dates = pd.read_pickle(\"/Users/Phillip/FIL Data Analysis group C/florida_hurricane_dates.pkl\")\n"
   ]
  },
  {
   "cell_type": "code",
   "execution_count": 5,
   "id": "116a4bde",
   "metadata": {},
   "outputs": [
    {
     "name": "stdout",
     "output_type": "stream",
     "text": [
      "10\n"
     ]
    }
   ],
   "source": [
    "# Counter for how many before June 1\n",
    "early_hurricanes = 0\n",
    "\n",
    "# We loop over the dates\n",
    "for hurricane in florida_hurricane_dates:\n",
    "  # Check if the month is before June (month number 6)\n",
    "  if hurricane.month < 6:\n",
    "    early_hurricanes = early_hurricanes + 1\n",
    "    \n",
    "print(early_hurricanes)"
   ]
  },
  {
   "cell_type": "code",
   "execution_count": 7,
   "id": "5059fc29",
   "metadata": {},
   "outputs": [
    {
     "name": "stdout",
     "output_type": "stream",
     "text": [
      "11\n"
     ]
    }
   ],
   "source": [
    "# Example numbers\n",
    "\n",
    "a=11\n",
    "b=14\n",
    "l=[a,b]\n",
    "\n",
    "## Find the least in the list\n",
    "print(min(l))"
   ]
  },
  {
   "cell_type": "code",
   "execution_count": 12,
   "id": "f21db5ef",
   "metadata": {},
   "outputs": [
    {
     "name": "stdout",
     "output_type": "stream",
     "text": [
      "2017-11-05\n"
     ]
    }
   ],
   "source": [
    "# Create our dates\n",
    "d1 = date(2017, 11, 5)\n",
    "d2 = date(2017,12,4)\n",
    "l = [d1, d2]\n",
    "\n",
    "print(min(l))"
   ]
  },
  {
   "cell_type": "code",
   "execution_count": 13,
   "id": "5885b18d",
   "metadata": {},
   "outputs": [
    {
     "name": "stdout",
     "output_type": "stream",
     "text": [
      "29\n"
     ]
    }
   ],
   "source": [
    "# Subtract two dates\n",
    "delta = d2-d1\n",
    "print(delta.days)"
   ]
  },
  {
   "cell_type": "code",
   "execution_count": 14,
   "id": "4f6d167f",
   "metadata": {},
   "outputs": [
    {
     "name": "stdout",
     "output_type": "stream",
     "text": [
      "2017-12-04\n"
     ]
    }
   ],
   "source": [
    "# Import timedelta\n",
    "from datetime import timedelta\n",
    "\n",
    "# create a 29 day timedelta\n",
    "td = timedelta(days=29)\n",
    "\n",
    "print(d1+td)\n"
   ]
  },
  {
   "cell_type": "code",
   "execution_count": 23,
   "id": "c685ea59",
   "metadata": {},
   "outputs": [
    {
     "name": "stdout",
     "output_type": "stream",
     "text": [
      "2022-08-26\n",
      "2022-08\n"
     ]
    }
   ],
   "source": [
    "# for project 14 days from date of coivd number\n",
    "\n",
    "td = timedelta(days=14)\n",
    "d3 = date(2022,9,9)\n",
    "\n",
    "st_date = d3-td\n",
    "\n",
    "print(st_date.isoformat())\n",
    "print(st_date.strftime(\"%Y-%m\"))\n"
   ]
  },
  {
   "cell_type": "code",
   "execution_count": 21,
   "id": "61fa6a23",
   "metadata": {
    "scrolled": true
   },
   "outputs": [
    {
     "name": "stdout",
     "output_type": "stream",
     "text": [
      "{1: 0, 2: 1, 3: 0, 4: 1, 5: 8, 6: 32, 7: 21, 8: 49, 9: 70, 10: 43, 11: 9, 12: 1}\n"
     ]
    }
   ],
   "source": [
    "# A dictionary to count hurricanes per calendar month\n",
    "hurricanes_each_month = {1: 0, 2: 0, 3: 0, 4: 0, 5: 0, 6:0,\n",
    "                         7: 0, 8:0, 9:0, 10:0, 11:0, 12:0}\n",
    "\n",
    "# Loop over all hurricanes\n",
    "for hurricane in florida_hurricane_dates:\n",
    "  # Pull out the month\n",
    "  month = hurricane.month\n",
    "  # Increment the count in your dictionary by one\n",
    "  hurricanes_each_month[month] +=1\n",
    "  \n",
    "print(hurricanes_each_month)\n"
   ]
  },
  {
   "cell_type": "markdown",
   "id": "e4341208",
   "metadata": {},
   "source": [
    "### Capital Bikeshare work examples"
   ]
  },
  {
   "cell_type": "code",
   "execution_count": 24,
   "id": "920ae1ad",
   "metadata": {
    "scrolled": true
   },
   "outputs": [
    {
     "name": "stdout",
     "output_type": "stream",
     "text": [
      "            Start date             End date  Start station number  \\\n",
      "0  2017-10-01 15:23:25  2017-10-01 15:26:26                 31038   \n",
      "1  2017-10-01 15:42:57  2017-10-01 17:49:59                 31036   \n",
      "2  2017-10-02 06:37:10  2017-10-02 06:42:53                 31036   \n",
      "3  2017-10-02 08:56:45  2017-10-02 09:18:03                 31037   \n",
      "4  2017-10-02 18:23:48  2017-10-02 18:45:05                 31295   \n",
      "\n",
      "                          Start station  End station number  \\\n",
      "0                  Glebe Rd & 11th St N               31036   \n",
      "1         George Mason Dr & Wilson Blvd               31036   \n",
      "2         George Mason Dr & Wilson Blvd               31037   \n",
      "3  Ballston Metro / N Stuart & 9th St N               31295   \n",
      "4                     Potomac & M St NW               31230   \n",
      "\n",
      "                            End station Bike number Member type  \n",
      "0         George Mason Dr & Wilson Blvd      W20529      Member  \n",
      "1         George Mason Dr & Wilson Blvd      W20529      Casual  \n",
      "2  Ballston Metro / N Stuart & 9th St N      W20529      Member  \n",
      "3                     Potomac & M St NW      W20529      Member  \n",
      "4         Metro Center / 12th & G St NW      W20529      Member  \n"
     ]
    }
   ],
   "source": [
    "# Import bikeshare dataset\n",
    "onebike_datetimes = pd.read_csv(\"/Users/Phillip/FIL Data Analysis group C/capital-onebike.csv\")\n",
    "print(onebike_datetimes.head())"
   ]
  },
  {
   "cell_type": "code",
   "execution_count": 28,
   "id": "802db24c",
   "metadata": {},
   "outputs": [
    {
     "ename": "TypeError",
     "evalue": "string indices must be integers",
     "output_type": "error",
     "traceback": [
      "\u001b[1;31m---------------------------------------------------------------------------\u001b[0m",
      "\u001b[1;31mTypeError\u001b[0m                                 Traceback (most recent call last)",
      "\u001b[1;32m~\\AppData\\Local\\Temp/ipykernel_9384/1003588572.py\u001b[0m in \u001b[0;36m<module>\u001b[1;34m\u001b[0m\n\u001b[0;32m      7\u001b[0m \u001b[1;32mfor\u001b[0m \u001b[0mtrip\u001b[0m \u001b[1;32min\u001b[0m \u001b[0monebike_datetimes\u001b[0m\u001b[1;33m:\u001b[0m\u001b[1;33m\u001b[0m\u001b[1;33m\u001b[0m\u001b[0m\n\u001b[0;32m      8\u001b[0m   \u001b[1;31m# Check to see if the trip starts before noon\u001b[0m\u001b[1;33m\u001b[0m\u001b[1;33m\u001b[0m\u001b[0m\n\u001b[1;32m----> 9\u001b[1;33m   \u001b[1;32mif\u001b[0m \u001b[0mtrip\u001b[0m\u001b[1;33m[\u001b[0m\u001b[1;34m'start'\u001b[0m\u001b[1;33m]\u001b[0m\u001b[1;33m.\u001b[0m\u001b[0mhour\u001b[0m \u001b[1;33m<\u001b[0m \u001b[1;36m12\u001b[0m\u001b[1;33m:\u001b[0m\u001b[1;33m\u001b[0m\u001b[1;33m\u001b[0m\u001b[0m\n\u001b[0m\u001b[0;32m     10\u001b[0m     \u001b[1;31m# Increment the counter for before noon\u001b[0m\u001b[1;33m\u001b[0m\u001b[1;33m\u001b[0m\u001b[0m\n\u001b[0;32m     11\u001b[0m     \u001b[0mtrip_counts\u001b[0m\u001b[1;33m[\u001b[0m\u001b[1;34m'AM'\u001b[0m\u001b[1;33m]\u001b[0m \u001b[1;33m+=\u001b[0m \u001b[1;36m1\u001b[0m\u001b[1;33m\u001b[0m\u001b[1;33m\u001b[0m\u001b[0m\n",
      "\u001b[1;31mTypeError\u001b[0m: string indices must be integers"
     ]
    }
   ],
   "source": [
    "# Create dictionary to hold results\n",
    "trip_counts = {'AM': 0, 'PM': 0}\n",
    "\n",
    "trip = onebike_datetimes['Bike number']='W20529'\n",
    "\n",
    "# Loop over all trips\n",
    "for trip in onebike_datetimes:\n",
    "  # Check to see if the trip starts before noon\n",
    "  if trip['start'].hour < 12:\n",
    "    # Increment the counter for before noon\n",
    "    trip_counts['AM'] += 1\n",
    "  else:\n",
    "    # Increment the counter for after noon\n",
    "    trip_counts['PM'] += 1\n",
    "  \n",
    "print(trip_counts)"
   ]
  }
 ],
 "metadata": {
  "kernelspec": {
   "display_name": "Python 3 (ipykernel)",
   "language": "python",
   "name": "python3"
  },
  "language_info": {
   "codemirror_mode": {
    "name": "ipython",
    "version": 3
   },
   "file_extension": ".py",
   "mimetype": "text/x-python",
   "name": "python",
   "nbconvert_exporter": "python",
   "pygments_lexer": "ipython3",
   "version": "3.9.7"
  }
 },
 "nbformat": 4,
 "nbformat_minor": 5
}
