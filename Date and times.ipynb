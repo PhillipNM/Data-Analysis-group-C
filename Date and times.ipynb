{
 "cells": [
  {
   "cell_type": "code",
   "execution_count": 1,
   "id": "faadc09f",
   "metadata": {},
   "outputs": [],
   "source": [
    "# Import date\n",
    "from datetime import date\n",
    "import pandas as pd\n",
    "\n",
    "# Create dates\n",
    "two_hurricanes_dates = [date(2016,10,7), date(2017,6,21)]"
   ]
  },
  {
   "cell_type": "code",
   "execution_count": 2,
   "id": "5e10f0a6",
   "metadata": {},
   "outputs": [
    {
     "name": "stdout",
     "output_type": "stream",
     "text": [
      "[datetime.date(2016, 10, 7), datetime.date(2017, 6, 21)]\n"
     ]
    }
   ],
   "source": [
    "print(two_hurricanes_dates)"
   ]
  },
  {
   "cell_type": "code",
   "execution_count": 3,
   "id": "3b1ae4fa",
   "metadata": {},
   "outputs": [
    {
     "name": "stdout",
     "output_type": "stream",
     "text": [
      "4\n"
     ]
    }
   ],
   "source": [
    "print(two_hurricanes_dates[0].weekday())"
   ]
  },
  {
   "cell_type": "code",
   "execution_count": 4,
   "id": "d4f48fcf",
   "metadata": {},
   "outputs": [],
   "source": [
    "# Import datasets\n",
    "florida_hurricane_dates = pd.read_pickle(\"/Users/Phillip/FIL Data Analysis group C/florida_hurricane_dates.pkl\")\n"
   ]
  },
  {
   "cell_type": "code",
   "execution_count": 5,
   "id": "116a4bde",
   "metadata": {},
   "outputs": [
    {
     "name": "stdout",
     "output_type": "stream",
     "text": [
      "10\n"
     ]
    }
   ],
   "source": [
    "# Counter for how many before June 1\n",
    "early_hurricanes = 0\n",
    "\n",
    "# We loop over the dates\n",
    "for hurricane in florida_hurricane_dates:\n",
    "  # Check if the month is before June (month number 6)\n",
    "  if hurricane.month < 6:\n",
    "    early_hurricanes = early_hurricanes + 1\n",
    "    \n",
    "print(early_hurricanes)"
   ]
  },
  {
   "cell_type": "code",
   "execution_count": 6,
   "id": "5059fc29",
   "metadata": {},
   "outputs": [],
   "source": [
    "# Example numbers\n",
    "\n",
    "a=11\n",
    "b=14\n",
    "l=[a,b]\n",
    "\n"
   ]
  },
  {
   "cell_type": "code",
   "execution_count": null,
   "id": "cda2a425",
   "metadata": {},
   "outputs": [],
   "source": []
  }
 ],
 "metadata": {
  "kernelspec": {
   "display_name": "Python 3 (ipykernel)",
   "language": "python",
   "name": "python3"
  },
  "language_info": {
   "codemirror_mode": {
    "name": "ipython",
    "version": 3
   },
   "file_extension": ".py",
   "mimetype": "text/x-python",
   "name": "python",
   "nbconvert_exporter": "python",
   "pygments_lexer": "ipython3",
   "version": "3.9.7"
  }
 },
 "nbformat": 4,
 "nbformat_minor": 5
}
